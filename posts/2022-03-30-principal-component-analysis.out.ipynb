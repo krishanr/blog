{
  "cells": [
    {
      "cell_type": "markdown",
      "metadata": {},
      "source": [
        "# Principal component analysis\n",
        "\n",
        "Principal component analysis (PCA) is a well known technique for\n",
        "dimensionality reduction, dating back over one hundred years. Here we’ll\n",
        "summarize the theory and application of PCA, showing for example that\n",
        "it’s most naturally applicable to multivariate normal data, which is\n",
        "determined by its first two moments. We shall derive PCA as a canonical\n",
        "form for random vectors, obtained using the population covariance matrix\n",
        "for a population or the sample covariance matrix for a sample. We’ll\n",
        "also see how this decomposition differs when using the population\n",
        "correlation matrix or the sample correlation matrix instead. We conclude\n",
        "with a computation of PCA for the iris dataset, first from scratch using\n",
        "numpy, and then using the scikit-learn API.\n",
        "\n",
        "We follow chapter 8 in (Johnson and Wichern 1982) for the theory of PCA,\n",
        "both in terms of populations of random variables and samples of random\n",
        "variables, and then apply it following chapter 8 in (Géron 2017). We\n",
        "also follow Professor Helwig’s notes available\n",
        "[here](http://users.stat.umn.edu/~helwig/notes/pca-Notes.pdf).\n",
        "\n",
        "By making a distinction between population and sample PCA, we can make\n",
        "statements about limits of the sample PCA as the sample size goes to\n",
        "infinity. Besides theoretical interest, these limits are useful for\n",
        "calculating confidence intervals, p-values, etc.\n",
        "\n",
        "Note hereafter that all vectors are assumed to row vectors unless\n",
        "specified otherwise, and we’ll use $\\vec{1}$ to denote the row vector\n",
        "with components all equal to $1$. We’ll also make the following\n",
        "definitions. Let $\\vec{X} = (X_1, ..., X_p)$ be a random (row) vector.\n",
        "The vector has (population) mean $\\vec{\\mu} = \\mathbb{E}[\\vec{X}]$ and\n",
        "(population) covariance matrix \\$= \\[( - )^T( - )\\] \\$. The (population)\n",
        "correlation matrix is\n",
        "\n",
        "$$\n",
        "P = \\begin{bmatrix}\n",
        "    1       & \\rho_{12} & \\rho_{13} & \\dots & \\rho_{1p} \\\\\n",
        "    \\rho_{21}       & 1 & \\rho_{23} & \\dots & \\rho_{2p} \\\\\n",
        "    \\vdots & \\vdots & \\vdots & \\ddots & \\vdots \\\\\n",
        "    \\rho_{p1}       & \\rho_{p2} & \\rho_{p3} & \\dots & 1\n",
        "\\end{bmatrix}\n",
        "$$\n",
        "\n",
        "where\n",
        "\n",
        "$$\n",
        "\\begin{aligned}\n",
        "\\rho_{jk} & = \\frac{\\sigma_{jk}}{\\sqrt{ \\sigma_{jj} \\sigma_{kk} }}, & \\sigma_{jk} & = \\Sigma_{jk}\n",
        "\\end{aligned}\n",
        "$$\n",
        "\n",
        "is the Pearson correlation coefficient between variables $X_j$ and\n",
        "$X_k$.\n",
        "\n",
        "## Transformations of random vectors\n",
        "\n",
        "For $\\vec{v}, \\vec{u} \\in \\mathbb{R}^p$, let\n",
        "$Y = \\vec{X} \\vec{v}^T = \\vec{X} \\cdot \\vec{v}$ and\n",
        "$Z = \\vec{X} \\cdot \\vec{u}$, then one can show that\n",
        "\n",
        "$$\n",
        "\\begin{aligned}\n",
        "\\mathbb{E}[Y] & = \\vec{\\mu} \\cdot \\vec{v} \\\\\n",
        "\\operatorname{cov}[Y, Z] & = \\vec{v} \\: \\Sigma \\: \\vec{u}^T\n",
        "\\end{aligned}\n",
        "$$\n",
        "\n",
        "More generally, with $v_1,\\dotsc,v_q \\in \\mathbb{R}^p$ and\n",
        "$c \\in \\mathbb{R}^q$, let $Y = \\vec{X} \\cdot \\vec{v_i}$, and define the\n",
        "$q \\times p$ matrix $V$ by:\n",
        "\n",
        "$$\n",
        "V = \\begin{bmatrix}\n",
        "\\vec{v}_1 \\\\\n",
        "\\vdots \\\\\n",
        "\\vec{v}_q \\\\\n",
        "\\end{bmatrix}\n",
        "$$\n",
        "\n",
        "so that $\\vec{Y} = \\vec{X} \\cdot V^T$, then\n",
        "\n",
        "$$\n",
        "\\begin{aligned}\n",
        "\\mathbb{E}[\\vec{Y} + c] & = \\vec{\\mu} \\cdot V^T + c \\\\\n",
        "\\operatorname{cov}[\\vec{Y} + c ] & = \\operatorname{cov}[\\vec{X} \\cdot V^T] = V \\; \\Sigma_X \\; V^T\n",
        "\\end{aligned}\n",
        "$$\n",
        "\n",
        "Also note that\n",
        "\n",
        "$$ \\sum_{j=1}^q \\operatorname{Var}(Y_j)  = \\operatorname{tr}(\\operatorname{cov}[\\vec{Y}]) = \\operatorname{tr}(V \\; \\Sigma_X \\; V^T) = \\operatorname{tr}( \\Sigma_X \\; V^T V) $$\n",
        "\n",
        "by the cyclic property of the trace. Hence when $q = p$ and $V$ is\n",
        "orthonormal,\n",
        "\n",
        "$$ \\sum_{j=1}^p \\operatorname{Var}(Y_j)  = \\operatorname{tr}(\\operatorname{cov}[\\vec{Y}]) = \\operatorname{tr}(A \\; \\Sigma_X \\; A^T) = \\operatorname{tr}( \\Sigma_X ) = \\sum_{j=1}^p \\operatorname{Var}(X_j) $$\n",
        "\n",
        "**Spectral theorem for symmetric matricies**\n",
        "\n",
        "Recall for any $p \\times p$ symmetric matrix $\\Sigma$, if we let\n",
        "$\\lambda_1 \\geq \\lambda_2 \\geq \\dots \\geq \\lambda_p \\geq 0$ be the\n",
        "eigenvalues of $\\Sigma$, then\n",
        "\n",
        "$$ \n",
        "    \\begin{aligned}\n",
        "        \\lambda_1 & = \\operatorname{max}_{x \\neq 0} \\frac{\\vec{x} \\: \\Sigma \\: \\vec{x}^T}{\\lVert x \\rVert^2} \\\\\n",
        "        \\lambda_p & = \\operatorname{min}_{x \\neq 0} \\frac{\\vec{x} \\: \\Sigma \\: \\vec{x}^T}{\\lVert x \\rVert^2} \\\\\n",
        "        \\frac{\\lambda_1}{\\lambda_p} & = \\kappa(\\Sigma) = \\operatorname{max}_{x , y \\neq 0} \\frac{\\vec{x} \\: \\Sigma \\: \\vec{x}^T}{\\lVert x \\rVert^2} \\frac{\\lVert x \\rVert^2}{\\vec{y} \\: \\Sigma \\: \\vec{y}^T}\n",
        "    \\end{aligned}\n",
        "$$\n",
        "\n",
        "where $\\kappa(\\Sigma)$ is the condition number of $\\Sigma$, defined when\n",
        "$\\Sigma$ is positive definite. There are also similar formulas for the\n",
        "other eigenvalues defined on appropriate subspaces.\n",
        "\n",
        "Finally, since the covariance matrix $\\Sigma$ is positive semi-definite,\n",
        "the spectral theorem applies to it, which we shall review later. This\n",
        "together with the fact that any random variable with zero variance is\n",
        "zero implies that $\\Sigma$ is positive definite iff the random variables\n",
        "$X_1, ..., X_p$ are linearly independent.\n",
        "\n",
        "**Two dimensions**\n",
        "\n",
        "Here’s a useful corollary of the above transformation law for the\n",
        "covariance matrix. Suppose $X_1$ and $X_2$ are random variables with\n",
        "covariance matrix $\\Sigma_X$. Then the variables $Y_1$ and $Y_2$ defined\n",
        "by\n",
        "\n",
        "$$\n",
        "    \\begin{aligned}\n",
        "        Y_1 & = X_1 - X_2  \\\\\n",
        "        Y_2 & = X_1 + X_2\n",
        "    \\end{aligned}\n",
        "$$\n",
        "\n",
        "have covariance\n",
        "\n",
        "$$\n",
        "    \\Sigma_Y = \\operatorname{cov}[\\vec{Y}] = \\begin{bmatrix}\n",
        "    \\sigma_{11} - 2 \\sigma_{12} + \\sigma_{22}        & \\sigma_{11} - \\sigma_{22} \\\\\n",
        "    \\sigma_{11} - \\sigma_{22}        & \\sigma_{11} + 2 \\sigma_{12} + \\sigma_{22}\n",
        "\\end{bmatrix}\n",
        "$$\n",
        "\n",
        "Thus $Y_1$ and $Y_2$ are uncorrelated iff $X_1$ and $X_2$ have the same\n",
        "variance, i.e. $\\sigma_{11} = \\sigma_{22}$.\n",
        "\n",
        "Moreover if $X_1$ and $X_2$ are independent, then $Y_1$ and $Y_2$ are in\n",
        "general not independent. In fact, if $Y_1$ and $Y_2$ are also\n",
        "independent, then $X_1$ and $X_2$ are normal random variables (see\n",
        "[here](https://math.stackexchange.com/questions/42115/when-linear-combinations-of-independent-random-variables-are-still-independent)).\n",
        "This fact is known as *Bernstein’s theorem*, and holds for more general\n",
        "linear combinations.\n",
        "\n",
        "Thus a unitary transformation of iid random variables have the same\n",
        "covariance matrix but are not in general independent.\n",
        "\n",
        "## Population PCA\n",
        "\n",
        "As above let $\\vec{Y} = \\vec{X} \\cdot V^T$ where $V$ is a $pxp$ matrix.\n",
        "Then the formula\n",
        "\n",
        "$$ \\Sigma_Y = \\operatorname{cov}[\\vec{Y}] = V \\; \\Sigma_X \\; V^T $$\n",
        "\n",
        "shows that $\\Sigma_Y$ and $\\Sigma_X$ are similar quadratic forms. Thus\n",
        "since $\\Sigma_X$ is symmetric, by the spectral theorem there exists a\n",
        "new set of random variables $Y_1, \\dotsc, Y_p$ in which $\\Sigma_Y$ is\n",
        "diagonal. These are the *principal components* of the random vector\n",
        "$\\vec{X}$, which can also be defined using notations from probability\n",
        "theory as follows:\n",
        "\n",
        "$$\n",
        "\\begin{aligned}\n",
        "    \\text{First principal component }  = Y_1  = & \\text{ linear combination of } \\vec{X}\\vec{v}_1^T \\text{ that maximizes } \\\\\n",
        "     & \\operatorname{Var}[\\vec{X}\\vec{v}_1^T] \\text{ subject to } \\lVert \\vec{v}_1 \\rVert = 1 \\\\\n",
        "     \\text{Second principal component }  = Y_2  = & \\text{ linear combination of } \\vec{X}\\vec{v}_2^T \\text{ that maximizes } \\\\\n",
        "     & \\operatorname{Var}[\\vec{X}\\vec{v}_2^T] \\text{ subject to } \\lVert \\vec{v}_2 \\rVert = 1 \\text{ and } \\vec{v_2} \\: \\Sigma \\: \\vec{v_1}^T = \\operatorname{Cov}[\\vec{X}\\vec{v}_1^T, \\vec{X}\\vec{v}_2^T] = 0 \\\\\n",
        "     & \\vdots \\\\\n",
        "     \\text{Last principal component }  = Y_p  = & \\text{ linear combination of } \\vec{X}\\vec{v}_p^T \\text{ that maximizes } \\\\\n",
        "     & \\operatorname{Var}[\\vec{X}\\vec{v}_p^T] \\text{ subject to } \\lVert \\vec{v}_p \\rVert = 1 \\text{ and } \\operatorname{Cov}[\\vec{X}\\vec{v}_p^T, \\vec{X}\\vec{v}_1^T] = \\operatorname{Cov}[\\vec{X}\\vec{v}_p^T, \\vec{X}\\vec{v}_2^T] = \\dots = \\operatorname{Cov}[\\vec{X}\\vec{v}_p^T, \\vec{X}\\vec{v}_{p-1}^T] = 0\n",
        "\\end{aligned}\n",
        "$$\n",
        "\n",
        "Equivalently, let $(\\lambda_1, \\vec{e}_1)$, $(\\lambda_2, \\vec{e}_2)$, …,\n",
        "$(\\lambda_p, \\vec{e}_p)$ be the eigenvalue-eigenvector pairs of $\\Sigma$\n",
        "with the eigenvalues ordered in non-increasing order. Then the ith\n",
        "principal component is:\n",
        "\n",
        "$$\n",
        "Y_i = \\vec{X}\\vec{e}_i^T \\quad, i = 1,...,p\n",
        "$$\n",
        "\n",
        "with\n",
        "\n",
        "$$\n",
        "\\begin{aligned}\n",
        "\\operatorname{Var}[Y_i]  & = \\lambda_i \\quad i = 1,...,p \\\\\n",
        "\\operatorname{Cov}[Y_i, Y_j]  & = 0 \\quad i \\neq j\n",
        "\\end{aligned}\n",
        "$$\n",
        "\n",
        "Thus the ith maximal variance of $\\Sigma$ is the ith eigenvalue of\n",
        "$\\Sigma$.\n",
        "\n",
        "Also note that only unique eigenvalues have unique eigenvectors (up to\n",
        "sign), so the principal components are in general not unique.\n",
        "\n",
        "The above formula for the trace implies that the random variables\n",
        "$Y_1, ..., Y_p$ have the same total variance as $X_1, ..., X_p$, since\n",
        "\n",
        "$$ \\sum_{j=1}^p \\operatorname{Var}(X_j)  = \\operatorname{tr}(\\Sigma) = \\operatorname{tr}(V \\; \\Sigma_X \\; V^T ) = \\operatorname{tr}(\\Sigma_X) = \\sum_{j=1}^p \\operatorname{Var}(Y_j) = \\sum_{j=1}^p \\lambda_j $$\n",
        "\n",
        "Thus we can define the proportion of variance captured by the $k$th\n",
        "principal component as\n",
        "\n",
        "$$\n",
        "\\begin{aligned}\n",
        "& \\text{Proporition of variance due }  = \\frac{\\lambda_k}{\\sum_{j=1}^p \\lambda_j}, \\quad k= 1,...,p \\\\\n",
        "& \\text{to the $k$th principal component }\n",
        "\\end{aligned}\n",
        "$$\n",
        "\n",
        "The basic idea behind PCA for dimensionality reduction is to only keep\n",
        "the the first $k$ principal components which captures, say $90\\%$, of\n",
        "the variance, thereby reducing the number of variables.\n",
        "\n",
        "Another way to select the principal components is to choose the most\n",
        "variables possible such that the conditon number (ratio of largest to\n",
        "smallest eigenvalues) of the reduced covariance matrix is close to $1$.\n",
        "This is because machine learning algorithms, like linear and logistic\n",
        "regression, preform better (more precision and faster convergence for\n",
        "gradient based methods) when the condition number of the covariance\n",
        "matrix is close to $1$.\n",
        "\n",
        "### Population PCA using the correlation matrix\n",
        "\n",
        "PCA can also be calculated using the correlation matrix $P$ which is the\n",
        "covariance matrix of the standardized features having their mean set to\n",
        "$0$ and variance to $1$. Specifically, one applies the above\n",
        "calculations to the following variables:\n",
        "\n",
        "$$\n",
        "\\begin{aligned}\n",
        "    Z_1 &= \\frac{X_1 - \\mu_1}{\\sqrt{\\sigma_{11}}} \\\\\n",
        "    Z_2 &= \\frac{X_2 - \\mu_2}{\\sqrt{\\sigma_{22}}} \\\\\n",
        "    \\vdots & \\quad \\vdots \\\\\n",
        "    Z_p &= \\frac{X_p - \\mu_p}{\\sqrt{\\sigma_{pp}}}\n",
        "\\end{aligned}\n",
        "$$\n",
        "\n",
        "In matrix notation we have\n",
        "\n",
        "$$\n",
        "\\begin{aligned}\n",
        "\\vec{Z} &= (\\vec{W}^{\\frac{1}{2}})^{-1}(\\vec{X} - \\vec{\\mu}) \\\\\n",
        "\\operatorname{cov}[\\vec{Z}] & = (\\vec{W}^{\\frac{1}{2}})^{-1} \\; \\Sigma \\; (\\vec{W}^{\\frac{1}{2}})^{-1} = P\n",
        "\\end{aligned}\n",
        "$$\n",
        "\n",
        "where $\\vec{W} = \\operatorname{diag}(\\sigma_{11},...,\\sigma_{pp})$. Then\n",
        "one obtains a decomposition similar to above with the following\n",
        "difference in the formula:\n",
        "\n",
        "$$\n",
        "\\sum_{j=1}^p \\operatorname{Var}(Y_j) = \\sum_{j=1}^p \\operatorname{Var}(X_j) = p\n",
        "$$\n",
        "\n",
        "Then the formula for the proportion of variance captured by the $k$th\n",
        "principal component simplifies to:\n",
        "\n",
        "$$\n",
        "\\begin{aligned}\n",
        "& \\text{Proporition of variance due }  = \\frac{\\lambda_k}{p}, \\quad k= 1,...,p \\\\\n",
        "& \\text{to the $k$th principal component }\n",
        "\\end{aligned}\n",
        "$$\n",
        "\n",
        "It’s important to note that the principal components calculated from\n",
        "$\\Sigma$ and $P$ can differ significantly, being a different linear\n",
        "combination of the original variables (see Johnson and Wichern 1982\n",
        "Example 8.2). The principal components are similar when the variances\n",
        "for the $p$ random variables are the same,\n",
        "$\\sigma = \\sigma_{11} = \\sigma_{22} = \\dots = \\sigma_{pp}$. Finally note\n",
        "that it’s **good practise to work with variables on the same scales** so\n",
        "that the principal components aren’t heavily skewed towards the larger\n",
        "variables.\n",
        "\n",
        "## Sample PCA\n",
        "\n",
        "Consider $n$ iid realizations $\\vec{X}_1, ..., \\vec{X}_n$ from the\n",
        "random vector $\\vec{X}$. We can arrange this data into a feature matrix\n",
        "\n",
        "$$ \n",
        "X =  \\begin{bmatrix}\n",
        "\\vec{X}_1 \\\\\n",
        "\\vdots \\\\\n",
        "\\vec{X}_n \\\\\n",
        "\\end{bmatrix}\n",
        "$$\n",
        "\n",
        "The sample covariance matrix, $S$, is:\n",
        "\n",
        "$$ \n",
        "\\begin{aligned}\n",
        "S_{i j}  = \\frac{1}{n-1} \\sum_{k=1}^n (X_{k i} - \\bar{X}_i) (X_{k j} - \\bar{X}_j) = \\frac{1}{n-1} (X - \\vec{1} \\otimes\\bar{X})^T (X - \\bar{X} \\otimes \\vec{1}) \n",
        "\\end{aligned} \\quad \\quad i= 1,...,p \\text{ and } j = 1,...,p$$\n",
        "\n",
        "and the sample correlation matrix, $R$, is:\n",
        "\n",
        "$$\n",
        "\\begin{aligned}\n",
        "R_{ij} = \\frac{S_{ij}}{\\sqrt{S_{ii}} \\sqrt{S_{jj}}} = \\frac{\\sum_{k=1}^n (X_{k i} - \\bar{X}_i) (X_{k j} - \\bar{X}_j)}{\\sqrt{\\sum_{k=1}^n (X_{k i} - \\bar{X}_i)^2 } \\sqrt{\\sum_{k=1}^n (X_{k j} - \\bar{X}_j)^2}}\n",
        "\\end{aligned} \\quad \\quad i= 1,...,p \\text{ and } j = 1,...,p\n",
        "$$\n",
        "\n",
        "For $\\vec{v} \\in \\mathbb{R}^p$ a new feature is defined by the equation\n",
        "\n",
        "$$ Y = \\vec{X} \\cdot \\vec{v} $$\n",
        "\n",
        "Formulas similar to above show that the sample covariance matrix\n",
        "transforms according to (see chapter 8 in Johnson and Wichern 1982):\n",
        "\n",
        "$$ S_Y = V S_X V^T $$\n",
        "\n",
        "Thus an identical construction can be given for the principal\n",
        "components, now using $S$ in place of $\\Sigma$, or $R$ in place of $P$.\n",
        "\n",
        "#### Reconstruction error\n",
        "\n",
        "Let $W_d = [ v_1 \\dots v_d ]$ be the matrix whose columns are the first\n",
        "$d$ eigenvectors of $S_X$ (ordered from largest to smallest eigenvalue).\n",
        "Then given any feature vector $\\vec{X}_i$, the vector $\\vec{X}_i W_d$ is\n",
        "the $d$ dimensional projection, and the vector $\\vec{X}_i W_d W_d^T$ is\n",
        "the reconstructed vector. There’s a fairly simple formula for the\n",
        "reconstruction error\n",
        "\n",
        "$$\n",
        "\\sum_{i=1}^n || \\vec{X}_i W_d W_d^T - \\vec{X}_i||^2\n",
        "$$\n",
        "\n",
        "It turns out that (see chapter 9 in Johnson and Wichern 1982 for a\n",
        "proof)\n",
        "\n",
        "$$\n",
        "\\begin{aligned}\n",
        "\\sum_{i=1}^n || \\vec{X}_i W_d W_d^T - \\vec{X}_i||^2 & = \\operatorname{tr}[(X W_d W_d^T - X)(X W_d W_d^T - X)^T] \\\\\n",
        "&  \\vdots \\\\\n",
        "& = \\lambda_{d+1} + \\dots + \\lambda_p\n",
        "\\end{aligned}\n",
        "$$\n",
        "\n",
        "Thus the recontruction error of the $d$ dimensional projection is equal\n",
        "to the remaining $p-d$ eigenvalues of the covariance matrix, i.e. the\n",
        "unexplained variance. Finally, note that this is the smallest possible\n",
        "error among all $d$ dimensional projections, and this is another\n",
        "defining property of PCA.\n",
        "\n",
        "## Large sample properties\n",
        "\n",
        "As expected, when the feature matrix $X$ comes from a multivariate\n",
        "Gaussian, the principal components recover the natural frame which\n",
        "diagonalizes the covariance matrix of the Gaussian. In fact, much more\n",
        "can be said.\n",
        "\n",
        "When $\\vec{X}_i \\overset{iid}{\\sim} N(\\vec{\\mu}, \\vec{\\Sigma})$ and the\n",
        "eigenvalues of $\\Sigma$ are strictly positive and unique:\n",
        "$\\lambda_1 > \\dots \\lambda_p > 0$, we can describe the large sample\n",
        "properties of the principal directions and eigenvalues. Then as\n",
        "$n \\rightarrow \\infty$, we have (Johnson and Wichern 1982):\n",
        "\n",
        "$$\n",
        "    \\sqrt{n}(\\hat{\\vec{\\lambda}} - \\vec{\\lambda}) \\approx N(\\vec{0}, 2 \\vec{\\Lambda}^2) \\\\\n",
        "    \\sqrt{n}(\\hat{\\vec{v}}_k - \\vec{v}_k) \\approx N(\\vec{0}, \\vec{V}_k)\n",
        "$$\n",
        "\n",
        "where $\\Lambda = \\operatorname{diag}(\\lambda_1, ..., \\lambda_k)$ and\n",
        "\n",
        "$$\n",
        "    \\vec{V}_k = \\lambda_k \\sum_{l \\neq k} \\frac{\\lambda_l}{(\\lambda_l - \\lambda_k)^2} \\vec{v}_l^T \\vec{v}_l\n",
        "$$\n",
        "\n",
        "Furthermore, as $n \\rightarrow \\infty$, we have that $\\hat{\\lambda}_k$\n",
        "and $\\hat{\\vec{v}}_k$ are independent.\n",
        "\n",
        "## Practical considerations\n",
        "\n",
        "Below we follow [A. Geron’s notes on\n",
        "PCA](https://github.com/ageron/handson-ml2/blob/master/08_dimensionality_reduction.ipynb)\n",
        "to implement it in numpy and sckit-learn for the iris dataset."
      ],
      "id": "1f70ea21-1dd9-4c92-bb04-a4ee14280168"
    },
    {
      "cell_type": "code",
      "execution_count": 1,
      "metadata": {},
      "outputs": [],
      "source": [
        "import pandas as pd\n",
        "from sklearn import datasets\n",
        "from sklearn.decomposition import PCA\n",
        "import numpy as np\n",
        "\n",
        "iris = datasets.load_iris()"
      ],
      "id": "1f9809f4"
    },
    {
      "cell_type": "code",
      "execution_count": 2,
      "metadata": {},
      "outputs": [
        {
          "output_type": "stream",
          "name": "stdout",
          "text": [
            "['sepal length (cm)', 'sepal width (cm)', 'petal length (cm)', 'petal width (cm)']"
          ]
        }
      ],
      "source": [
        "print(iris['feature_names'])"
      ],
      "id": "fadb4892"
    },
    {
      "cell_type": "code",
      "execution_count": 3,
      "metadata": {},
      "outputs": [
        {
          "output_type": "display_data",
          "metadata": {},
          "data": {
            "text/html": [
              "\n",
              "</div>"
            ]
          }
        }
      ],
      "source": [
        "df = pd.DataFrame(iris['data'], columns=['sepal_length', 'sepal_width', 'petal_length', 'petal_width'])\n",
        "df.head(5)"
      ],
      "id": "e7331ff7"
    },
    {
      "cell_type": "code",
      "execution_count": 4,
      "metadata": {},
      "outputs": [
        {
          "output_type": "display_data",
          "metadata": {},
          "data": {
            "text/html": [
              "\n",
              "</div>"
            ]
          }
        }
      ],
      "source": [
        "df.describe()"
      ],
      "id": "627cff12"
    },
    {
      "cell_type": "markdown",
      "metadata": {},
      "source": [
        "Since the units of each feature are comparable (the standard deviations\n",
        "are of the same order of magnitude), we will calculate PCA using the\n",
        "sample covariance matrix. If on the otherhand, the magnitudes differed\n",
        "by orders of magnitude, we would calculate PCA using the sample\n",
        "correlation matrix.\n",
        "\n",
        "### PCA using SVD directly\n",
        "\n",
        "The principal components can be calculated by diagonalizing the\n",
        "covariance matrix or calulating the singular value decomposition of the\n",
        "feature matrix. We’ll use the latter for numerical reasons."
      ],
      "id": "e559ce8b-a8e8-4a8a-a57e-36637ffd1b64"
    },
    {
      "cell_type": "code",
      "execution_count": 5,
      "metadata": {},
      "outputs": [],
      "source": [
        "X = iris['data']"
      ],
      "id": "cca2b311"
    },
    {
      "cell_type": "markdown",
      "metadata": {},
      "source": [
        "The SVD of $X$ is calculated after subtracting off the sample mean.\n",
        "We’ll call this matrix $X_{centered}$ and work with it hereafter. Then\n",
        "the SVD of $X_{centered}$ is\n",
        "\n",
        "$X_{centered} = U D V^T$\n",
        "\n",
        "where $U$ is an $n \\times n$ orthonormal matrix, $V$ is an $m \\times m$\n",
        "orthonormal matrix, and $D = \\operatorname{diag}(d_{11}, ..., d_{mm})$\n",
        "is an $n \\times m$ rectangular diagonal matrix.\n",
        "\n",
        "The matrix $V$ is the matrix of eigenvectors from the sample PCA above,\n",
        "and the diagonal covariance matrix $S_Y$ is obtained by squaring the\n",
        "singular values and dividing by $n-1$:\n",
        "\n",
        "$$\n",
        "S_Y =   \\frac{1}{n-1}\\begin{bmatrix}\n",
        "    d_{11}^2 & & \\\\\n",
        "    & \\ddots & \\\\\n",
        "    & & d_{mm}^2\n",
        "  \\end{bmatrix}\n",
        "$$\n",
        "\n",
        "For this example, we have:"
      ],
      "id": "9d32bb94-8eb6-4ee1-a0e6-236b6e42a500"
    },
    {
      "cell_type": "code",
      "execution_count": 6,
      "metadata": {},
      "outputs": [],
      "source": [
        "# Direct computation using SVD\n",
        "X_centered = X - X.mean(axis=0)\n",
        "U, D, Vt = np.linalg.svd(X_centered)\n",
        "V = Vt.T\n",
        "eigs = D ** 2"
      ],
      "id": "594e1f20"
    },
    {
      "cell_type": "markdown",
      "metadata": {},
      "source": [
        "The $d$-dimensional projection can be calcualted using the $p \\times d$\n",
        "matrix $W_d$ whose $d$ columns are the first $d$ eigenvectors.\n",
        "\n",
        "$X_{d-proj} = X_{centered}    W_d$"
      ],
      "id": "bd94b62b-5eec-4766-9a8b-05a8c5e30c32"
    },
    {
      "cell_type": "code",
      "execution_count": 7,
      "metadata": {},
      "outputs": [
        {
          "output_type": "display_data",
          "metadata": {},
          "data": {
            "text/plain": [
              "(150, 2)"
            ]
          }
        }
      ],
      "source": [
        "W2 = V[:, :2]\n",
        "# W2 can also be obtained from the sklearn package using: pca.components_.T \n",
        "X2D_diy = X_centered @ W2\n",
        "X2D_diy.shape"
      ],
      "id": "fa4369e7"
    },
    {
      "cell_type": "markdown",
      "metadata": {},
      "source": [
        "Obtain the reconstructed data using:\n",
        "\n",
        "\\$ X\\_{recovered} = X\\_{d-proj} W\\_{d}^T\\$\n",
        "\n",
        "A defining property of PCA is that for any dimension $d < m$, the PCA\n",
        "reconstruction of the data minimizes the mean squared error between the\n",
        "original data among all possible $d$ dimensional hyperplanes. Moreover,\n",
        "the square of this error is equal to the sum of the $m-d$ smaller\n",
        "eigenvalues, as we shall see."
      ],
      "id": "c636b184-9bca-4e0f-a4a7-da49f136d75b"
    },
    {
      "cell_type": "code",
      "execution_count": 8,
      "metadata": {},
      "outputs": [],
      "source": [
        "X_recovered = X2D_diy @ W2.T"
      ],
      "id": "1dfafa5d"
    },
    {
      "cell_type": "markdown",
      "metadata": {},
      "source": [
        "The squared error is then:"
      ],
      "id": "112c7306-b761-4539-9d7a-6ae6827d3771"
    },
    {
      "cell_type": "code",
      "execution_count": 9,
      "metadata": {
        "scrolled": true
      },
      "outputs": [
        {
          "output_type": "display_data",
          "metadata": {},
          "data": {
            "text/plain": [
              "15.204644359438948"
            ]
          }
        }
      ],
      "source": [
        "np.linalg.norm(X_centered - X_recovered)**2"
      ],
      "id": "66e8b210"
    },
    {
      "cell_type": "markdown",
      "metadata": {},
      "source": [
        "Which is equal to the sum of the two smaller eigenvalues:"
      ],
      "id": "87a2962e-3e31-4cb1-81c0-06376773385b"
    },
    {
      "cell_type": "code",
      "execution_count": 10,
      "metadata": {},
      "outputs": [
        {
          "output_type": "display_data",
          "metadata": {},
          "data": {
            "text/plain": [
              "15.204644359438953"
            ]
          }
        }
      ],
      "source": [
        "sum(eigs[2:])"
      ],
      "id": "f915beda"
    },
    {
      "cell_type": "markdown",
      "metadata": {},
      "source": [
        "The proportion of the total sample variance due to each sample principal\n",
        "component is:\n",
        "\n",
        "$$\n",
        "\\frac{\\hat{\\lambda_i}}{(\\sum_{i=1}^m \\hat{\\lambda_i}) } \\quad \\quad \\quad i = 1,...,m\n",
        "$$\n",
        "\n",
        "and is given numerically by"
      ],
      "id": "a2d2c702-c205-443e-9192-3bc3dd825f20"
    },
    {
      "cell_type": "code",
      "execution_count": 11,
      "metadata": {},
      "outputs": [
        {
          "output_type": "display_data",
          "metadata": {},
          "data": {
            "text/plain": [
              "array([0.92461872, 0.05306648, 0.01710261, 0.00521218])"
            ]
          }
        }
      ],
      "source": [
        "eigs/sum(eigs)"
      ],
      "id": "52ce5990"
    },
    {
      "cell_type": "markdown",
      "metadata": {},
      "source": [
        "We can obtain the number of principal components to retain by either (i)\n",
        "retaining the first $d$ components which sum up to 95% of the total\n",
        "variance, or (ii) looking for an elbow in the scree plot."
      ],
      "id": "4f166a03-b9e8-4bc0-940f-e0a434f9a748"
    },
    {
      "cell_type": "code",
      "execution_count": 12,
      "metadata": {},
      "outputs": [
        {
          "output_type": "display_data",
          "metadata": {},
          "data": {
            "image/png": "[encoded data removed]"
          }
        }
      ],
      "source": [
        "import matplotlib.pyplot as plt\n",
        "\n",
        "plt.plot(range(1,len(eigs)+1), np.array(eigs.tolist()))\n",
        "plt.title(label=\"Scree plot\")\n",
        "plt.xlabel(\"i\")\n",
        "plt.ylabel(\"lambda_i\")\n",
        "plt.show()"
      ],
      "id": "d1a77ec8"
    },
    {
      "cell_type": "markdown",
      "metadata": {},
      "source": [
        "There is an elbow in the plot at $i = 2$, meaning all eigenvalues after\n",
        "$\\lambda_1$ are relatively small and about the same size. In this case,\n",
        "it appears that the first principal component effectively summarize the\n",
        "total sample variance.\n",
        "\n",
        "Finally, we can visualize the two dimensional projection using a scatter\n",
        "plot."
      ],
      "id": "8205ef20-18c2-4813-a5e1-bcfc5f2750e7"
    },
    {
      "cell_type": "code",
      "execution_count": 13,
      "metadata": {},
      "outputs": [
        {
          "output_type": "display_data",
          "metadata": {},
          "data": {
            "image/png": "[encoded data removed]"
          }
        }
      ],
      "source": [
        "plt.title(\"PCA with 2 principal components\", fontsize=14)\n",
        "plt.scatter(X2D_diy[:, 0], X2D_diy[:,1], c=iris['target'])\n",
        "plt.xlabel(\"$y_1$\", fontsize=18)\n",
        "plt.ylabel(\"$y_2$\", fontsize=18)\n",
        "plt.show()"
      ],
      "id": "96c636ca"
    },
    {
      "cell_type": "markdown",
      "metadata": {},
      "source": [
        "### PCA using scikit-learn\n",
        "\n",
        "Now we’ll calculate the PCA projection using scikit-learn. Notice that\n",
        "scikit-learn will mean center the data itself."
      ],
      "id": "ad985c41-7975-4955-8875-3f1ca7a2ed64"
    },
    {
      "cell_type": "code",
      "execution_count": 14,
      "metadata": {},
      "outputs": [],
      "source": [
        "pca = PCA(n_components = 2)\n",
        "X2D = pca.fit_transform(X)"
      ],
      "id": "ab3bf4f5"
    },
    {
      "cell_type": "markdown",
      "metadata": {},
      "source": [
        "Instead of specifing the number of components in the call to PCA above,\n",
        "we can also set $\\operatorname{n\\_components}=0.95$ to obtain the number\n",
        "of dimensions which capture 95% of the variance in the data. Or we could\n",
        "pass in no arguments to get the full SVD and plot a scree plot.\n",
        "\n",
        "Below, we check that sklearn PCA and the one calculated with SVD\n",
        "directly give the same answer."
      ],
      "id": "2d9c247e-e333-406e-855a-eee816a270cf"
    },
    {
      "cell_type": "code",
      "execution_count": 15,
      "metadata": {},
      "outputs": [
        {
          "output_type": "display_data",
          "metadata": {},
          "data": {
            "text/plain": [
              "2.748330173586095"
            ]
          }
        }
      ],
      "source": [
        "np.max(X2D - X2D_diy)"
      ],
      "id": "079e0f49"
    },
    {
      "cell_type": "markdown",
      "metadata": {},
      "source": [
        "The non-uniquness of the PCA leads to a large difference. However, this\n",
        "can be fixed by inspecting the projections and adjusting:"
      ],
      "id": "52762244-a60b-4061-a926-bd2d079afdd0"
    },
    {
      "cell_type": "code",
      "execution_count": 16,
      "metadata": {},
      "outputs": [
        {
          "output_type": "display_data",
          "metadata": {},
          "data": {
            "text/plain": [
              "1.3322676295501878e-15"
            ]
          }
        }
      ],
      "source": [
        "X2D_diy[:,1] = - X2D_diy[:,1]\n",
        "np.max(X2D - X2D_diy)"
      ],
      "id": "2da4b26f"
    },
    {
      "cell_type": "markdown",
      "metadata": {},
      "source": [
        "The explained variance ratio holds the proportion of variance explained\n",
        "by the first two sample principal components, and is given by"
      ],
      "id": "a057323a-8b91-4be5-9231-be1c5c1f7bad"
    },
    {
      "cell_type": "code",
      "execution_count": 17,
      "metadata": {
        "scrolled": true
      },
      "outputs": [
        {
          "output_type": "display_data",
          "metadata": {},
          "data": {
            "text/plain": [
              "array([0.92461872, 0.05306648])"
            ]
          }
        }
      ],
      "source": [
        "pca.explained_variance_ratio_"
      ],
      "id": "c608cec8"
    },
    {
      "cell_type": "markdown",
      "metadata": {},
      "source": [
        "#### Computational complexity\n",
        "\n",
        "Let $n_{max} = \\operatorname{max}(m,n)$ and\n",
        "$n_{min} = \\operatorname{min}(m,n)$. If $n_{max} < 500$ and $d$ is less\n",
        "than $80\\%$ of $n_{min}$, then scikit-learn uses the full SVD approach\n",
        "which has a complexity of $O(n_{max}^2 n_{min})$, otherwise it uses\n",
        "randomized PCA which has a complexity of $O(n_{max}^2 d)$\n",
        "(cf. [here](https://scikit-learn.org/stable/modules/decomposition.html#pca-using-randomized-svd)\n",
        "and (Géron 2017)).\n",
        "\n",
        "There are many more variations of PCA, and other dimensionality\n",
        "reduction algorithms. See [Decomposing signals in components (matrix\n",
        "factorization\n",
        "problems)](https://scikit-learn.org/stable/modules/decomposition.html#decomposing-signals-in-components-matrix-factorization-problems)\n",
        "in the scikit-learn documentation, for example.\n",
        "\n",
        "Géron, Aurélien. 2017. “Hands-on Machine Learning with Scikit-Learn and\n",
        "TensorFlow: Concepts, Tools, and Techniques to Build Intelligent\n",
        "Systems.” In.\n",
        "\n",
        "Johnson, Richard A., and Dean W. Wichern. 1982. “Applied Multivariate\n",
        "Statistical Analysis.” In."
      ],
      "id": "ed33f956-6460-4061-bff7-dab0913653ff"
    }
  ],
  "nbformat": 4,
  "nbformat_minor": 5,
  "metadata": {
    "kernelspec": {
      "name": "python3",
      "display_name": "Python 3 (ipykernel)",
      "language": "python"
    },
    "language_info": {
      "name": "python",
      "codemirror_mode": {
        "name": "ipython",
        "version": "3"
      },
      "file_extension": ".py",
      "mimetype": "text/x-python",
      "nbconvert_exporter": "python",
      "pygments_lexer": "ipython3",
      "version": "3.9.7"
    }
  }
}