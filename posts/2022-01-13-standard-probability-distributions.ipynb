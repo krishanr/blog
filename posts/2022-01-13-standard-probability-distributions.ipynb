{
 "cells": [
  {
   "cell_type": "raw",
   "id": "e2564dfa",
   "metadata": {
    "vscode": {
     "languageId": "raw"
    }
   },
   "source": [
    "---\n",
    "title: \"Standard probability distributions\"\n",
    "date: '2022-01-13'\n",
    "description: An expository article on the elementary probability distributions, their\n",
    "  properties, and common applications, with calculations done in scipy.\n",
    "format:\n",
    "  html:\n",
    "    code-fold: false\n",
    "  ipynb: default\n",
    "jupyter: python3\n",
    "badges: true\n",
    "categories:\n",
    "- statistics\n",
    "toc: true\n",
    "bibliography: ../bibliography/references.bib\n",
    "---"
   ]
  },
  {
   "cell_type": "markdown",
   "id": "1ebf1d74",
   "metadata": {},
   "source": [
    "We'll review elementary univariate probability distributions in statistics, including how the mean/variance are derived, simple relationships, and the questions they answer, with calculations done in scipy.\n",
    "\n",
    "This review is similar in spirit to [brand name distributions](https://www.stat.umn.edu/geyer/5101/notes/brand.pdf) and [univariate distribution relationships](http://www.math.wm.edu/~leemis/2008amstat.pdf)."
   ]
  },
  {
   "cell_type": "code",
   "execution_count": null,
   "id": "d18805b1",
   "metadata": {},
   "outputs": [],
   "source": [
    "import scipy.special as sp\n",
    "import scipy.stats as ss\n",
    "import numpy as np\n",
    "\n",
    "import matplotlib.pyplot as plt\n",
    "import seaborn as sns"
   ]
  },
  {
   "cell_type": "markdown",
   "id": "3ba817a5",
   "metadata": {},
   "source": [
    "The univariate probability distributions answer questions about events occuring on a discrete time interval $D_n = [0, 1, \\dotsc, n ]$ or a continuous time interval $I_t = [0, t]$. \n",
    "\n",
    "In the discrete case each event could be a success with probability $p$ or a failure with probability $1-p$, with different events being independent. Then we can ask the following questions:\n",
    "\n",
    "1. For fixed $n$, what is the probability of observing $k$ successes?\n",
    "2. How many events do we have to observe before seeing $1$ success or more generally, $r$ successes? \n",
    "\n",
    "The first question is answered by the Binomial distribution, and the second is answered by the geometric and negative binomial distributions. A concrete example of such events are coin tosses, where the outcome of each toss is independent of previous tosses, and each toss comes up as heads with probability $p = \\frac{1}{2}$.\n",
    "\n",
    "In the case of a continuous time interval $I_t$ there are many types of events that can occur, but we'll study the simplest type with real world applications, the events associated with a Poisson process. Then we can ask the following questions about a Poisson process:\n",
    "\n",
    "1. Within a fixed time $t$, what is the probability of observing $k$ events?\n",
    "2. How much time do we have to wait before seeing the first event or more generally, $r$ events?\n",
    "\n",
    "The first question is answered by the Poisson distribution, and the second is answered by the exponential and Erlang (Gamma) distributions. A concrete example of events following a Poisson process are the distribution of earthquakes in a given region.\n",
    "\n",
    "Finally, the normal distribution will arise as the limiting distribution in the famous central limit theorem. "
   ]
  },
  {
   "cell_type": "markdown",
   "id": "b99694c4",
   "metadata": {},
   "source": [
    "Moving forward, do remember that\n",
    "\n",
    "$$ \\operatorname{var}[X] = \\mathbb{E}[(X - \\mathbb{E}[X] )^2] = \\mathbb{E}[X^2] - (\\mathbb{E}[X])^2 $$"
   ]
  },
  {
   "cell_type": "markdown",
   "id": "9dbe1bb7",
   "metadata": {},
   "source": [
    "### Bernoulli distribution\n",
    "\n",
    "Suppose X is a random variable denoting having a trial with a probability of success $p$. It gives a success, $X = 1$, with probability $p$  and  failure, $X = 0$, with probability $1-p$. Then $X \\sim \\operatorname{Ber}(p)$, and\n",
    "\n",
    "$$\\mathbb{E}[X] = p,  \\: \\: \\mathbb{E}[(X - \\mathbb{E}[X] )^2] = p (1-p)$$"
   ]
  },
  {
   "cell_type": "code",
   "execution_count": 17,
   "id": "b01d9653",
   "metadata": {},
   "outputs": [
    {
     "name": "stdout",
     "output_type": "stream",
     "text": [
      "mean 0.4, var 0.24, skew 0.40824829046386296, kurt -1.8333333333333337\n"
     ]
    }
   ],
   "source": [
    "p = 0.4\n",
    "\n",
    "rv = ss.bernoulli(p)\n",
    "\n",
    "mean, var, skew, kurt = rv.stats(moments='mvsk')\n",
    "print(\"mean {}, var {}, skew {}, kurt {}\".format(mean, var, skew, kurt))"
   ]
  },
  {
   "cell_type": "code",
   "execution_count": 8,
   "id": "a0cd0cbf",
   "metadata": {},
   "outputs": [
    {
     "data": {
      "text/plain": [
       "(0.0, 1.0)"
      ]
     },
     "execution_count": 8,
     "metadata": {},
     "output_type": "execute_result"
    }
   ],
   "source": [
    "rv.interval(0.99)"
   ]
  },
  {
   "cell_type": "code",
   "execution_count": 9,
   "id": "910b3450",
   "metadata": {
    "scrolled": true
   },
   "outputs": [
    {
     "data": {
      "image/png": "[encoded data removed]",
      "text/plain": [
       "<Figure size 640x480 with 1 Axes>"
      ]
     },
     "metadata": {},
     "output_type": "display_data"
    }
   ],
   "source": [
    "fig, ax = plt.subplots()\n",
    "\n",
    "y = np.random.binomial(1, p, size=100)\n",
    "\n",
    "sns.countplot(x=y, label=f'mean = {y.mean(): 0.3f}', ax=ax)\n",
    "ax.legend(loc='upper right')\n",
    "ax.set(title='Bernoulli Distribution', xlabel='y');"
   ]
  },
  {
   "cell_type": "markdown",
   "id": "3d4f564c",
   "metadata": {},
   "source": [
    "P(X = 1) is calculated using the probability mass function below:"
   ]
  },
  {
   "cell_type": "code",
   "execution_count": 10,
   "id": "4c43cb3f",
   "metadata": {},
   "outputs": [
    {
     "data": {
      "text/plain": [
       "0.4"
      ]
     },
     "execution_count": 10,
     "metadata": {},
     "output_type": "execute_result"
    }
   ],
   "source": [
    "rv.pmf(1)"
   ]
  },
  {
   "cell_type": "markdown",
   "id": "f0484eb1",
   "metadata": {},
   "source": [
    "### Binomial distribution\n",
    "\n",
    "When we have $n$ independent trials, each with a probability of success $p$ and failure $1-p$, then $X \\sim \\operatorname{Bin}(n, p)$ which is a sum of $n$ independent $\\operatorname{Ber}(p)$ random variables. I.e. letting $X_i \\sim \\operatorname{Ber}(p)$ for $i = 1, \\dotsc, n$, then\n",
    "\n",
    "$$ X = \\sum_{i=1}^n X_i $$\n",
    "\n",
    "and a straightforward calculation gives\n",
    "\n",
    "$$\\mathbb{E}[X] = n p,  \\: \\: \\mathbb{E}[(X - \\mathbb{E}[X] )^2] = n p (1-p)$$"
   ]
  },
  {
   "cell_type": "code",
   "execution_count": 11,
   "id": "a4eab605",
   "metadata": {},
   "outputs": [
    {
     "name": "stdout",
     "output_type": "stream",
     "text": [
      "mean 4.0, var 2.3999999999999995, skew 0.1290994448735805, kurt -0.1833333333333333\n"
     ]
    }
   ],
   "source": [
    "p, n = 0.4, 10\n",
    "\n",
    "rv = ss.binom(n, p)\n",
    "\n",
    "mean, var, skew, kurt = rv.stats(moments=\"mvsk\")\n",
    "print(\"mean {}, var {}, skew {}, kurt {}\".format(mean, var, skew, kurt))"
   ]
  },
  {
   "cell_type": "code",
   "execution_count": 12,
   "id": "80d9d4e3",
   "metadata": {},
   "outputs": [
    {
     "data": {
      "image/png": "[encoded data removed]",
      "text/plain": [
       "<Figure size 640x480 with 1 Axes>"
      ]
     },
     "metadata": {},
     "output_type": "display_data"
    }
   ],
   "source": [
    "fig, ax = plt.subplots()\n",
    "\n",
    "y = np.random.binomial(n, p, size=200)\n",
    "sns.countplot(x=y, label=f'mean = {y.mean(): 0.3f}', ax=ax)\n",
    "ax.legend(\"upper right\")\n",
    "ax.set(title=\"Binomial distribution\", xlabel=\"y\");"
   ]
  },
  {
   "cell_type": "markdown",
   "id": "bed7fd0b",
   "metadata": {},
   "source": [
    "P(X = 3) is calculated using the probability mass function below:"
   ]
  },
  {
   "cell_type": "code",
   "execution_count": 117,
   "id": "fa1526e7",
   "metadata": {},
   "outputs": [
    {
     "data": {
      "text/plain": [
       "0.21499084799999976"
      ]
     },
     "execution_count": 117,
     "metadata": {},
     "output_type": "execute_result"
    }
   ],
   "source": [
    "rv.pmf(3)"
   ]
  },
  {
   "cell_type": "markdown",
   "id": "7ad5b333",
   "metadata": {},
   "source": [
    "Do a quick check that the probability mass function is normalized:"
   ]
  },
  {
   "cell_type": "code",
   "execution_count": 129,
   "id": "6d0f2926",
   "metadata": {},
   "outputs": [
    {
     "data": {
      "text/plain": [
       "0.9999999999999994"
      ]
     },
     "execution_count": 129,
     "metadata": {},
     "output_type": "execute_result"
    }
   ],
   "source": [
    "sum (rv.pmf(i) for i in range(n+1))"
   ]
  },
  {
   "cell_type": "markdown",
   "id": "83b5789c",
   "metadata": {},
   "source": [
    "### Geometric distribution\n",
    "\n",
    "Suppose independent trials, each with a probability of success $p$, are performed until success occurs. Then the number of trials until the first success occurs is a random variable $X \\sim \\operatorname{Geo}(p)$, and called a geometric random variable. Its probability mass function is:\n",
    "\n",
    "$$ P(X= n) = (1-p)^{n-1} p, \\: \\: n= 1,2,\\dotsc $$\n",
    "\n",
    "Using the probability generating function we calculate:\n",
    "\n",
    "$$\\mathbb{E}[X] = \\frac{1}{p},  \\: \\: \\mathbb{E}[(X - \\mathbb{E}[X] )^2] = \\frac{1-p}{p^2}$$"
   ]
  },
  {
   "cell_type": "code",
   "execution_count": 132,
   "id": "c25e0bf2",
   "metadata": {},
   "outputs": [
    {
     "name": "stdout",
     "output_type": "stream",
     "text": [
      "mean 2.5, var 3.749999999999999, skew 2.0655911179772892, kurt 6.2666666666666675\n"
     ]
    }
   ],
   "source": [
    "p = 0.4\n",
    "\n",
    "rv = ss.geom(p)\n",
    "\n",
    "mean, var, skew, kurt = rv.stats(moments=\"mvsk\")\n",
    "print(\"mean {}, var {}, skew {}, kurt {}\".format(mean, var, skew, kurt))"
   ]
  },
  {
   "cell_type": "code",
   "execution_count": 139,
   "id": "fdc1b166",
   "metadata": {},
   "outputs": [
    {
     "data": {
      "image/png": "[encoded data removed]",
      "text/plain": [
       "<Figure size 432x288 with 1 Axes>"
      ]
     },
     "metadata": {
      "needs_background": "light"
     },
     "output_type": "display_data"
    }
   ],
   "source": [
    "fig, ax = plt.subplots()\n",
    "\n",
    "y = np.random.geometric(p, size=1000)\n",
    "sns.countplot(x=y, label =f'mean = {y.mean(): 0.3f}', ax=ax)\n",
    "ax.legend(\"upper right\")\n",
    "ax.set(title=\"Geometric Distribution\", xlabel=\"y\");"
   ]
  },
  {
   "cell_type": "markdown",
   "id": "2203945a",
   "metadata": {},
   "source": [
    "As the above histogram hints at, the geometric distribution is the discretization of the exponential distribution, and shares the memoryless property:\n",
    "\n",
    "$$ P(X > n + k | X > k) = P(X > n) $$"
   ]
  },
  {
   "cell_type": "markdown",
   "id": "3a3588d8",
   "metadata": {},
   "source": [
    "### Negative Binomial distribution\n",
    "\n",
    "Suppose independent trials, each with a probability of success $p$, are performed until success occurs (with the last trial being a success). Then the number of trials until $r$ successes occur is a random variable $X \\sim \\operatorname{NegBin}(r,p)$ and called a negative binomial random variable, which can be expressed as a sum of $r$ independent geometric distributions $X_i \\sim \\operatorname{Geo}(p)$ for $i = 1, \\dotsc, n$.\n",
    "\n",
    "$$ X = X_1 + X_2 + \\dotsc + X_n $$\n",
    "\n",
    "The probability mass function is:\n",
    "\n",
    "$$ P(X = k) = { k + r - 1 \\choose k} p^r (1-p)^{k} $$\n",
    "\n",
    "where $k$ is the number of failures seen before seeing a total of $r$ successes.\n",
    "\n",
    "$$\\mathbb{E}[X] = \\frac{r (1-p)}{p},  \\: \\: \\mathbb{E}[(X - \\mathbb{E}[X] )^2] = r\\frac{(1-p)}{p^2}$$"
   ]
  },
  {
   "cell_type": "code",
   "execution_count": 167,
   "id": "6e634023",
   "metadata": {},
   "outputs": [
    {
     "name": "stdout",
     "output_type": "stream",
     "text": [
      "mean 5.999999999999999, var 14.999999999999996, skew 1.0327955589886446, kurt 1.5666666666666669\n"
     ]
    }
   ],
   "source": [
    "p = 0.4\n",
    "r = 4\n",
    "\n",
    "\n",
    "rv = ss.nbinom(r, p)\n",
    "\n",
    "mean, var, skew, kurt = rv.stats(moments=\"mvsk\")\n",
    "print(\"mean {}, var {}, skew {}, kurt {}\".format(mean, var, skew, kurt))"
   ]
  },
  {
   "cell_type": "code",
   "execution_count": 170,
   "id": "5db91051",
   "metadata": {
    "scrolled": true
   },
   "outputs": [
    {
     "data": {
      "image/png": "[encoded data removed]",
      "text/plain": [
       "<Figure size 432x288 with 1 Axes>"
      ]
     },
     "metadata": {
      "needs_background": "light"
     },
     "output_type": "display_data"
    }
   ],
   "source": [
    "fig, ax = plt.subplots()\n",
    "\n",
    "y = np.random.negative_binomial(r, p, size=1000)\n",
    "sns.countplot(x=y, label=f'mean = {y.mean(): 0.3f}', ax=ax)\n",
    "ax.legend(\"upper right\")\n",
    "ax.set(title=\"Negative Binomial distribution\", xlabel=\"y\");"
   ]
  },
  {
   "cell_type": "markdown",
   "id": "024833c4",
   "metadata": {},
   "source": [
    "### Poisson distribution and processes\n",
    "\n",
    "The number of events occuring in a fixed time interval $t$, with each event occuring independently of each other and at a average constant rate $\\lambda$ is described by the Poisson distribution with parameter $\\mu = \\lambda t$, $X \\sim Poi(\\mu)$, and has the probability mass function:\n",
    "\n",
    "$$ P(X = k) = \\frac{\\mu^k}{k!} e^{-\\mu}  \\: \\: k = 0,1,\\dotsc$$\n",
    "\n",
    "The standard moments are,\n",
    "\n",
    "$$\\mathbb{E}[X] = \\mu = \\lambda t,  \\: \\: \\mathbb{E}[(X - \\mathbb{E}[X] )^2] = \\mu$$\n",
    "\n",
    "Note that the time till the first event in a Poisson process is described by the exponential distribution with parameter $\\lambda$, and the time till the first $r$ events in a Poisson process is described by the Erlang (Gamma) distribution with shape $r$ and rate $\\lambda$. See below for definitions.\n",
    "\n",
    "Also see section 20.2 from the stats cookbook for a good summary of the Poisson process and the different distributions involved."
   ]
  },
  {
   "cell_type": "code",
   "execution_count": 185,
   "id": "ec00b252",
   "metadata": {},
   "outputs": [
    {
     "name": "stdout",
     "output_type": "stream",
     "text": [
      "mean 6.0, var 6.0, skew 0.408248290463863, kurt 0.16666666666666666\n"
     ]
    }
   ],
   "source": [
    "mu = 6\n",
    "\n",
    "rv = ss.poisson(mu)\n",
    "\n",
    "mean, var, skew, kurt = rv.stats(moments=\"mvsk\")\n",
    "print(\"mean {}, var {}, skew {}, kurt {}\".format(mean, var, skew, kurt))"
   ]
  },
  {
   "cell_type": "code",
   "execution_count": 189,
   "id": "31e110a2",
   "metadata": {},
   "outputs": [
    {
     "data": {
      "image/png": "[encoded data removed]",
      "text/plain": [
       "<Figure size 432x288 with 1 Axes>"
      ]
     },
     "metadata": {
      "needs_background": "light"
     },
     "output_type": "display_data"
    }
   ],
   "source": [
    "fig, ax = plt.subplots()\n",
    "\n",
    "y = np.random.poisson(mu, size=1000)\n",
    "sns.countplot(x=y, label=f'mean = {y.mean(): 0.3f}', ax=ax)\n",
    "ax.legend(\"upper right\")\n",
    "ax.set(title=\"Poisson distribution\", xlabel=\"y\");"
   ]
  },
  {
   "cell_type": "markdown",
   "id": "0836e3d5",
   "metadata": {},
   "source": [
    "### Gamma function and distribution\n",
    "\n",
    "Recall the Gamma function, $\\Gamma(\\alpha)$, is a function of a real variable, such that $\\Gamma(\\alpha) = \\alpha!$ for $\\alpha = 0, 1, 2 \\dotsc$.\n",
    "\n",
    "The Gamma distribution then has the probability distribution:\n",
    "\n",
    "$$f(x; \\alpha, \\beta) = \\frac{x^{\\alpha-1} e^{-\\beta x} \\beta^\\alpha}{\\Gamma(\\alpha)} \\text{ for } x > 0$$\n",
    "\n",
    "with $\\alpha >0$ called the shape and $\\beta >0 $ called the rate. $\\theta = 1/\\beta$ is also called the scale parameter."
   ]
  },
  {
   "cell_type": "markdown",
   "id": "43621647",
   "metadata": {},
   "source": [
    "If $X \\sim \\operatorname{Ga}(\\alpha, \\beta)$ (see [@Murphy2012MachineL]), then the standard moments are\n",
    "\n",
    "$$\\mathbb{E}[X] = \\frac{\\alpha}{\\beta},  \\: \\: \\mathbb{E}[(X - \\mathbb{E}[X] )^2] = \\frac{\\alpha}{\\beta^2}$$\n",
    "$$\\operatorname{mode}{X} = \\frac{(\\alpha-1)}{\\beta} $$"
   ]
  },
  {
   "cell_type": "markdown",
   "id": "cc8b45f3",
   "metadata": {},
   "source": [
    "We parameterize the Gamma distribution in scipy as follows."
   ]
  },
  {
   "cell_type": "code",
   "execution_count": 80,
   "id": "8fd0d737",
   "metadata": {},
   "outputs": [],
   "source": [
    "alpha, beta  = 3, 1\n",
    "rv = ss.gamma(a=alpha,scale=1/beta)"
   ]
  },
  {
   "cell_type": "code",
   "execution_count": 81,
   "id": "71d86356",
   "metadata": {
    "scrolled": true
   },
   "outputs": [
    {
     "data": {
      "text/plain": [
       "(0.33786338872773347, 9.273792089255544)"
      ]
     },
     "execution_count": 81,
     "metadata": {},
     "output_type": "execute_result"
    }
   ],
   "source": [
    "rv.interval(0.99)"
   ]
  },
  {
   "cell_type": "code",
   "execution_count": 85,
   "id": "b731ce05",
   "metadata": {},
   "outputs": [
    {
     "data": {
      "image/png": "[encoded data removed]",
      "text/plain": [
       "<Figure size 432x288 with 1 Axes>"
      ]
     },
     "metadata": {
      "needs_background": "light"
     },
     "output_type": "display_data"
    }
   ],
   "source": [
    "fig, ax = plt.subplots(1, 1)\n",
    "\n",
    "x = np.linspace(0, rv.ppf(0.999), 100)\n",
    "\n",
    "ax.plot(x, rv.pdf(x), 'r-', lw=2, alpha=0.6, label='gamma pdf')\n",
    "ax.set(title=\"Gamma PDF\", xlabel=\"y\");"
   ]
  },
  {
   "cell_type": "markdown",
   "id": "6b7e972c",
   "metadata": {},
   "source": [
    "### Exponential distribution\n",
    "\n",
    "The Exponential, Erlang, and Chi-Squared distributions are all related to the Gamma distribution [@Murphy2012MachineL], but we'll describe the simplest, the exponential distribution. \n",
    "\n",
    "$$ \\operatorname{Exp}(x | \\lambda) =  \\operatorname{Ga}(x | 1, \\lambda)$$\n",
    "\n",
    "where $\\lambda$ is the rate parameter. The exponential distribution describes the waiting time between events in a Poisson process.\n",
    "\n",
    "From the above formulas, if $X \\sim \\operatorname{Exp}(x | \\lambda)$, then\n",
    "\n",
    "$$\\mathbb{E}[X] = \\frac{1}{\\lambda},  \\: \\: \\mathbb{E}[(X - \\mathbb{E}[X] )^2] = \\frac{1}{\\lambda^2}$$\n",
    "$$\\operatorname{mode}{X} = 0 $$\n",
    "\n",
    "The exponential distribution, which is the continuous analog of the geometric distribution, also has the memoryless property:\n",
    "\n",
    "$$ P(X > t + h | X > h) = P(X > t )$$\n",
    "\n",
    "for any $t, h > 0 $."
   ]
  },
  {
   "cell_type": "markdown",
   "id": "0ecc15ce",
   "metadata": {},
   "source": [
    "### Characteristic functions of random variables\n",
    "\n",
    "The charactierstic function will be useful for working with these distributions.\n",
    "\n",
    "The characteristic function (also called the Fourier transform) of a random variable $X$ is \n",
    "\n",
    "$$\\phi(t) = \\mathbb{E}[e^{i t X}] \\: \\: \\text{ for } t \\in \\mathbb{R}$$\n",
    "\n",
    "This function satisfies $|\\phi(t)| <= 1$ for all $t$ and is uniformly continuous. It has some advantages over the moment generating function, including the fact that it's defined everywhere, and that it uniquely determines the random variable [@Grimmett2001ProbabilityAR].\n",
    "\n",
    "Some other facts that we can derive from characteristic functions:\n",
    "\n",
    "1. If $\\phi^k(0)$ and $\\mathbb{E}[|X^k|] < \\infty$, then\n",
    "\n",
    "$$ \\phi^k(0) = i^k \\mathbb{E}[X^k] $$\n",
    "\n",
    "2. If $X_1, X_2, \\dotsc, X_n$ are independent then\n",
    "\n",
    "$$ \\phi_{X_1 + \\dotsc + X_n}(t) = \\phi_{X_1}(t) \\dots \\phi_{X_n}(t)  $$\n",
    "\n",
    "3. If $a, b \\in \\mathbb{R}$ and $Y = a X + b $ then \n",
    "\n",
    "$$ \\phi_{Y}(t) = e^{i t b } \\phi_{a X}(t) $$\n",
    "\n",
    "4. For random variables $X$ and $Y$, define the join characteristic function of $X$, and $Y$ by $\\phi_{X, Y}(s,t) = \\mathbb{E}[e^{i s X} e^{i t Y}]$. Then $X$ and $Y$ are independent iff\n",
    "\n",
    "$$ \\phi_{X, Y}(s,t) = \\phi_X(s) \\phi_Y(t) \\text{ for all } s, t \\in \\mathbb{R} $$\n",
    "\n",
    "See chapter 5 of [@Grimmett2001ProbabilityAR] for the statement and proof of the above facts."
   ]
  },
  {
   "cell_type": "markdown",
   "id": "42a4db9f",
   "metadata": {},
   "source": [
    "### Examples of characteristic functions\n",
    "\n",
    "If $X \\sim \\operatorname{Ber}(p)$ then\n",
    "\n",
    "$$ \\phi(t) = 1 - p + p e^{i t} $$\n",
    "\n",
    "If $X \\sim \\operatorname{Bin}(n,p)$ then\n",
    "\n",
    "$$ \\phi(t) = (1 - p + p e^{i t} )^n $$\n",
    "\n",
    "If $X \\sim \\operatorname{NegBin}(r,p)$ then\n",
    "\n",
    "$$ \\phi(t) = \\left (\\frac{p}{1 - e^{it} + p e^{i t}} \\right )^r $$\n",
    "\n",
    "If $X \\sim \\operatorname{Gam}(\\alpha, \\beta)$ then\n",
    "\n",
    "$$ \\phi(t) = \\left (\\frac{\\beta}{\\beta - i t} \\right )^\\alpha $$\n",
    "\n",
    "\n",
    "If $X \\sim \\operatorname{Exp}(\\lambda)$ then\n",
    "\n",
    "$$ \\phi(t) = \\frac{\\lambda}{\\lambda - i t}  $$\n",
    "\n",
    "If $X \\sim \\operatorname{Poi}(\\mu)$ then\n",
    "\n",
    "$$ \\phi(t)  = e^{\\mu ( e^{i t} - 1)}$$\n",
    "\n",
    "If $X \\sim \\operatorname{N}(\\mu, \\sigma)$ then\n",
    "\n",
    "$$ \\phi(t) = \\exp( i \\mu t - \\frac{\\sigma t^2}{2}) $$\n",
    "\n",
    "If $X \\sim U(a, b)$ (continuous Uniform random variable) then\n",
    "\n",
    "$$ \\phi(t) = \\frac{e^{i t b} - e^{i t a}}{ i t (b - a)} $$\n",
    "\n",
    "See section 5.8 in [@Grimmett2001ProbabilityAR] for more details. Those functions, plus the above facts about characteristic functions, and the following \n",
    "\n",
    "$$ \\operatorname{var}[X] = \\mathbb{E}[X^2] - (\\mathbb{E}[X])^2 $$\n",
    "\n",
    "can be used to calculate $\\mathbb{E}[X]$ and $\\operatorname{var}[X]$.\n",
    "\n",
    "The above formulas also clearly show which distributions are closed under taking sums of independent copies."
   ]
  },
  {
   "cell_type": "markdown",
   "id": "90b1671a",
   "metadata": {},
   "source": [
    "### Normal distribution, weak law of large numbers, and the central limit theorem\n",
    "\n",
    "We'll now study the normal distribution as the error distribution in the central limit theorem.\n",
    "\n",
    "First recall that the normal distribution has the probability distribution:\n",
    "\n",
    "$$ f(x) = \\frac{1}{\\sigma \\sqrt{2 \\pi} } e^{- \\frac{1}{2} \\left (\\frac{x-\\mu}{\\sigma} \\right)^2}$$\n",
    "\n",
    "where $\\mu \\in \\mathbb{R}$ and $\\sigma > 0$, and the standard moments are\n",
    "\n",
    "$$\\mathbb{E}[X] = \\mu,  \\: \\: \\mathbb{E}[(X - \\mathbb{E}[X] )^2] = \\sigma$$\n",
    "$$\\operatorname{mode}{X} = \\mu $$"
   ]
  },
  {
   "cell_type": "markdown",
   "id": "0c8e6a59",
   "metadata": {},
   "source": [
    "Now consider a sequence $X_1$, $X_2$, ... of independent and identically distributed random variables each with mean $\\mu$ and standard deviation $\\sigma$ (good examples being the Bernoulli and Exponential distributions). Let $S_n = X_1 + X_2 + \\dots + X_n$ be their partial sums, then the *weak law of large numbers*^[The strong law of large numbers refers to almost everywhere convergence of the random variables.] says that $\\frac{S_n}{n}$ converges to $\\mu$ in distribution as $n$ approaches $\\infty$ (see section 5.10 in [@Grimmett2001ProbabilityAR]). We'll illustrate this theorem by way of example below."
   ]
  },
  {
   "cell_type": "code",
   "execution_count": 83,
   "id": "9cdd9b9d",
   "metadata": {},
   "outputs": [],
   "source": [
    "lam = 0.5\n",
    "mu = 2\n",
    "\n",
    "def draw(n):\n",
    "    return np.random.exponential(mu, size=n)"
   ]
  },
  {
   "cell_type": "markdown",
   "id": "75a90f30",
   "metadata": {},
   "source": [
    "Below we'll plot the distribution of $\\frac{S_n}{n}$ for $n = 1, 100$ and $1000$ to see the weak law in action."
   ]
  },
  {
   "cell_type": "code",
   "execution_count": 84,
   "id": "daf53222",
   "metadata": {},
   "outputs": [
    {
     "data": {
      "image/png": "[encoded data removed]",
      "text/plain": [
       "<Figure size 720x720 with 3 Axes>"
      ]
     },
     "metadata": {
      "needs_background": "light"
     },
     "output_type": "display_data"
    }
   ],
   "source": [
    "fig = plt.figure(figsize=(10,10))\n",
    "\n",
    "n = 1\n",
    "y = np.array([ sum(draw(n))/n for i in range(1000) ] )\n",
    "ax = fig.add_subplot(221)\n",
    "ax.hist(y, label=f'mean = {y.mean(): 0.3f}')\n",
    "ax.title.set_text(\"Distribution of a random variable\")\n",
    "\n",
    "n = 100\n",
    "y = np.array([ sum(draw(n))/n for i in range(1000) ] )\n",
    "ax = fig.add_subplot(222)\n",
    "ax.hist(y, label=f'mean = {y.mean(): 0.3f}')\n",
    "ax.title.set_text(f\"Average of {n} IID random variables\")\n",
    "\n",
    "n = 1000\n",
    "y = np.array([ sum(draw(n))/n for i in range(1000) ] )\n",
    "ax = fig.add_subplot(223)\n",
    "ax.hist(y, label=f'mean = {y.mean(): 0.3f}')\n",
    "ax.title.set_text(f\"Average of {n} IID random variables\")\n",
    "fig.suptitle('Illustration of the Weak Law of Large Numbers')\n",
    "plt.show()"
   ]
  },
  {
   "cell_type": "markdown",
   "id": "cff914c9",
   "metadata": {},
   "source": [
    "It clearly looks like the errors in $\\frac{S_n}{n} - \\mu$ are approaching a normal distribution, in fact $(S_n - n \\mu)/ \\sqrt{n \\sigma^2}$ approaches $N(0,1)$ in distribution as $n$ approaches $\\infty$ (provided the $X_i$s has finite non-zero variance, [@Grimmett2001ProbabilityAR]). This fact is the famous *central limit theorem*, which we'll illustrate below."
   ]
  },
  {
   "cell_type": "code",
   "execution_count": 79,
   "id": "7b952766",
   "metadata": {},
   "outputs": [
    {
     "data": {
      "image/png": "[encoded data removed]",
      "text/plain": [
       "<Figure size 720x720 with 3 Axes>"
      ]
     },
     "metadata": {
      "needs_background": "light"
     },
     "output_type": "display_data"
    }
   ],
   "source": [
    "fig = plt.figure(figsize=(10,10))\n",
    "\n",
    "n = 1\n",
    "y = np.array([ sum(draw(n))/n for i in range(1000) ] )\n",
    "ax = fig.add_subplot(221)\n",
    "ax.hist(y, label=f'mean = {y.mean(): 0.3f}')\n",
    "ax.title.set_text(\"Distribution of a random variable\")\n",
    "\n",
    "n = 100\n",
    "y = np.array([ (sum(draw(n)) - mu * n)/np.sqrt(n) for i in range(1000) ] )\n",
    "ax = fig.add_subplot(222)\n",
    "ax.hist(y, label=f'mean = {y.mean(): 0.3f}')\n",
    "ax.title.set_text(f\"Errors of {n} IID random variables\")\n",
    "\n",
    "n = 1000\n",
    "y = np.array([ (sum(draw(n)) - mu * n)/np.sqrt(n) for i in range(1000) ] )\n",
    "ax = fig.add_subplot(223)\n",
    "ax.hist(y, label=f'mean = {y.mean(): 0.3f}')\n",
    "ax.title.set_text(f\"Errors of {n} IID random variables\")\n",
    "fig.suptitle('Illustration of the Central Limit Theorem')\n",
    "plt.show()"
   ]
  },
  {
   "cell_type": "markdown",
   "id": "43945b26",
   "metadata": {},
   "source": [
    "Note that it's straightforward to check that\n",
    "\n",
    "$$ \\mathbb{E}[(S_n - n \\mu)/ \\sqrt{n \\sigma^2}] = 0, \\: \\: \\operatorname{var}[(S_n - n \\mu)/ \\sqrt{n \\sigma^2}] = 1$$\n",
    "\n",
    "for all $ n > 0 $. So the first two moments of $(S_n - n \\mu)/ \\sqrt{n \\sigma^2}$ agree with the first two moments of $N(0, 1)$. The central limit theorem then says that in the limit of large $n$, all moments of $(S_n - n \\mu)/ \\sqrt{n \\sigma^2}$ agree with all moments of $N(0, 1)$.\n",
    "\n",
    "Observe that these theorems naturally apply to the Bernoulli and Exponential distributions in the limit of large $n$, showing that after setting the mean to zero and scaling by the standard deviation, they both converge to the standard normal distribution.\n",
    "\n",
    "Finally, note that the weak law of large numbers, and the central limit theorem can be proven fairly elegantly using charactierstic functions (see [@Grimmett2001ProbabilityAR], for example). Also see chapter 15 in [Introduction to probability at an advanced level](https://www.stat.berkeley.edu/~aditya/resources/AllLectures2018Fall201A.pdf) for more applications of the central limit theorem."
   ]
  },
  {
   "cell_type": "markdown",
   "id": "d144d7eb",
   "metadata": {},
   "source": [
    "More summaries of standard statistics can be found in [stats cookbook](http://statistics.zone/)."
   ]
  }
 ],
 "metadata": {
  "kernelspec": {
   "display_name": "snakemake",
   "language": "python",
   "name": "python3"
  },
  "language_info": {
   "codemirror_mode": {
    "name": "ipython",
    "version": 3
   },
   "file_extension": ".py",
   "mimetype": "text/x-python",
   "name": "python",
   "nbconvert_exporter": "python",
   "pygments_lexer": "ipython3",
   "version": "3.12.8"
  }
 },
 "nbformat": 4,
 "nbformat_minor": 5
}
