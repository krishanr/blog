{
  "cells": [
    {
      "cell_type": "markdown",
      "metadata": {},
      "source": [
        "# Standard probability distributions\n",
        "\n",
        "We’ll review elementary univariate probability distributions in\n",
        "statistics, including how the mean/variance are derived, simple\n",
        "relationships, and the questions they answer, with calculations done in\n",
        "scipy.\n",
        "\n",
        "This review is similar in spirit to [brand name\n",
        "distributions](https://www.stat.umn.edu/geyer/5101/notes/brand.pdf) and\n",
        "[univariate distribution\n",
        "relationships](http://www.math.wm.edu/~leemis/2008amstat.pdf)."
      ],
      "id": "46a12ba1-4317-4e36-9272-84a380ac9456"
    },
    {
      "cell_type": "code",
      "execution_count": null,
      "metadata": {},
      "outputs": [],
      "source": [
        "import scipy.special as sp\n",
        "import scipy.stats as ss\n",
        "import numpy as np\n",
        "\n",
        "import matplotlib.pyplot as plt\n",
        "import seaborn as sns"
      ],
      "id": "d18805b1"
    },
    {
      "cell_type": "markdown",
      "metadata": {},
      "source": [
        "The univariate probability distributions answer questions about events\n",
        "occuring on a discrete time interval $D_n = [0, 1, \\dotsc, n ]$ or a\n",
        "continuous time interval $I_t = [0, t]$.\n",
        "\n",
        "In the discrete case each event could be a success with probability $p$\n",
        "or a failure with probability $1-p$, with different events being\n",
        "independent. Then we can ask the following questions:\n",
        "\n",
        "1.  For fixed $n$, what is the probability of observing $k$ successes?\n",
        "2.  How many events do we have to observe before seeing $1$ success or\n",
        "    more generally, $r$ successes?\n",
        "\n",
        "The first question is answered by the Binomial distribution, and the\n",
        "second is answered by the geometric and negative binomial distributions.\n",
        "A concrete example of such events are coin tosses, where the outcome of\n",
        "each toss is independent of previous tosses, and each toss comes up as\n",
        "heads with probability $p = \\frac{1}{2}$.\n",
        "\n",
        "In the case of a continuous time interval $I_t$ there are many types of\n",
        "events that can occur, but we’ll study the simplest type with real world\n",
        "applications, the events associated with a Poisson process. Then we can\n",
        "ask the following questions about a Poisson process:\n",
        "\n",
        "1.  Within a fixed time $t$, what is the probability of observing $k$\n",
        "    events?\n",
        "2.  How much time do we have to wait before seeing the first event or\n",
        "    more generally, $r$ events?\n",
        "\n",
        "The first question is answered by the Poisson distribution, and the\n",
        "second is answered by the exponential and Erlang (Gamma) distributions.\n",
        "A concrete example of events following a Poisson process are the\n",
        "distribution of earthquakes in a given region.\n",
        "\n",
        "Finally, the normal distribution will arise as the limiting distribution\n",
        "in the famous central limit theorem.\n",
        "\n",
        "Moving forward, do remember that\n",
        "\n",
        "$$ \\operatorname{var}[X] = \\mathbb{E}[(X - \\mathbb{E}[X] )^2] = \\mathbb{E}[X^2] - (\\mathbb{E}[X])^2 $$\n",
        "\n",
        "### Bernoulli distribution\n",
        "\n",
        "Suppose X is a random variable denoting having a trial with a\n",
        "probability of success $p$. It gives a success, $X = 1$, with\n",
        "probability $p$ and failure, $X = 0$, with probability $1-p$. Then\n",
        "$X \\sim \\operatorname{Ber}(p)$, and\n",
        "\n",
        "$$\\mathbb{E}[X] = p,  \\: \\: \\mathbb{E}[(X - \\mathbb{E}[X] )^2] = p (1-p)$$"
      ],
      "id": "ce0147ec-4404-4ce2-96cf-47a24df947bf"
    },
    {
      "cell_type": "code",
      "execution_count": 17,
      "metadata": {},
      "outputs": [
        {
          "output_type": "stream",
          "name": "stdout",
          "text": [
            "mean 0.4, var 0.24, skew 0.40824829046386296, kurt -1.8333333333333337"
          ]
        }
      ],
      "source": [
        "p = 0.4\n",
        "\n",
        "rv = ss.bernoulli(p)\n",
        "\n",
        "mean, var, skew, kurt = rv.stats(moments='mvsk')\n",
        "print(\"mean {}, var {}, skew {}, kurt {}\".format(mean, var, skew, kurt))"
      ],
      "id": "b01d9653"
    },
    {
      "cell_type": "code",
      "execution_count": 8,
      "metadata": {},
      "outputs": [
        {
          "output_type": "display_data",
          "metadata": {},
          "data": {
            "text/plain": [
              "(0.0, 1.0)"
            ]
          }
        }
      ],
      "source": [
        "rv.interval(0.99)"
      ],
      "id": "a0cd0cbf"
    },
    {
      "cell_type": "code",
      "execution_count": 9,
      "metadata": {
        "scrolled": true
      },
      "outputs": [
        {
          "output_type": "display_data",
          "metadata": {},
          "data": {
            "image/png": "[encoded data removed]"
          }
        }
      ],
      "source": [
        "fig, ax = plt.subplots()\n",
        "\n",
        "y = np.random.binomial(1, p, size=100)\n",
        "\n",
        "sns.countplot(x=y, label=f'mean = {y.mean(): 0.3f}', ax=ax)\n",
        "ax.legend(loc='upper right')\n",
        "ax.set(title='Bernoulli Distribution', xlabel='y');"
      ],
      "id": "910b3450"
    },
    {
      "cell_type": "markdown",
      "metadata": {},
      "source": [
        "P(X = 1) is calculated using the probability mass function below:"
      ],
      "id": "869f11bb-6552-4c37-a36b-296a840afa53"
    },
    {
      "cell_type": "code",
      "execution_count": 10,
      "metadata": {},
      "outputs": [
        {
          "output_type": "display_data",
          "metadata": {},
          "data": {
            "text/plain": [
              "0.4"
            ]
          }
        }
      ],
      "source": [
        "rv.pmf(1)"
      ],
      "id": "4c43cb3f"
    },
    {
      "cell_type": "markdown",
      "metadata": {},
      "source": [
        "### Binomial distribution\n",
        "\n",
        "When we have $n$ independent trials, each with a probability of success\n",
        "$p$ and failure $1-p$, then $X \\sim \\operatorname{Bin}(n, p)$ which is a\n",
        "sum of $n$ independent $\\operatorname{Ber}(p)$ random variables. I.e.\n",
        "letting $X_i \\sim \\operatorname{Ber}(p)$ for $i = 1, \\dotsc, n$, then\n",
        "\n",
        "$$ X = \\sum_{i=1}^n X_i $$\n",
        "\n",
        "and a straightforward calculation gives\n",
        "\n",
        "$$\\mathbb{E}[X] = n p,  \\: \\: \\mathbb{E}[(X - \\mathbb{E}[X] )^2] = n p (1-p)$$"
      ],
      "id": "d1abc705-958b-493a-8110-34a7e305d09f"
    },
    {
      "cell_type": "code",
      "execution_count": 11,
      "metadata": {},
      "outputs": [
        {
          "output_type": "stream",
          "name": "stdout",
          "text": [
            "mean 4.0, var 2.3999999999999995, skew 0.1290994448735805, kurt -0.1833333333333333"
          ]
        }
      ],
      "source": [
        "p, n = 0.4, 10\n",
        "\n",
        "rv = ss.binom(n, p)\n",
        "\n",
        "mean, var, skew, kurt = rv.stats(moments=\"mvsk\")\n",
        "print(\"mean {}, var {}, skew {}, kurt {}\".format(mean, var, skew, kurt))"
      ],
      "id": "a4eab605"
    },
    {
      "cell_type": "code",
      "execution_count": 12,
      "metadata": {},
      "outputs": [
        {
          "output_type": "display_data",
          "metadata": {},
          "data": {
            "image/png": "[encoded data removed]"
          }
        }
      ],
      "source": [
        "fig, ax = plt.subplots()\n",
        "\n",
        "y = np.random.binomial(n, p, size=200)\n",
        "sns.countplot(x=y, label=f'mean = {y.mean(): 0.3f}', ax=ax)\n",
        "ax.legend(\"upper right\")\n",
        "ax.set(title=\"Binomial distribution\", xlabel=\"y\");"
      ],
      "id": "80d9d4e3"
    },
    {
      "cell_type": "markdown",
      "metadata": {},
      "source": [
        "P(X = 3) is calculated using the probability mass function below:"
      ],
      "id": "6c3eb7df-6909-492c-a68d-dea2300b4ce0"
    },
    {
      "cell_type": "code",
      "execution_count": 117,
      "metadata": {},
      "outputs": [
        {
          "output_type": "display_data",
          "metadata": {},
          "data": {
            "text/plain": [
              "0.21499084799999976"
            ]
          }
        }
      ],
      "source": [
        "rv.pmf(3)"
      ],
      "id": "fa1526e7"
    },
    {
      "cell_type": "markdown",
      "metadata": {},
      "source": [
        "Do a quick check that the probability mass function is normalized:"
      ],
      "id": "f814da7a-6cc9-487a-80f3-fa9f8ad83b4c"
    },
    {
      "cell_type": "code",
      "execution_count": 129,
      "metadata": {},
      "outputs": [
        {
          "output_type": "display_data",
          "metadata": {},
          "data": {
            "text/plain": [
              "0.9999999999999994"
            ]
          }
        }
      ],
      "source": [
        "sum (rv.pmf(i) for i in range(n+1))"
      ],
      "id": "6d0f2926"
    },
    {
      "cell_type": "markdown",
      "metadata": {},
      "source": [
        "### Geometric distribution\n",
        "\n",
        "Suppose independent trials, each with a probability of success $p$, are\n",
        "performed until success occurs. Then the number of trials until the\n",
        "first success occurs is a random variable\n",
        "$X \\sim \\operatorname{Geo}(p)$, and called a geometric random variable.\n",
        "Its probability mass function is:\n",
        "\n",
        "$$ P(X= n) = (1-p)^{n-1} p, \\: \\: n= 1,2,\\dotsc $$\n",
        "\n",
        "Using the probability generating function we calculate:\n",
        "\n",
        "$$\\mathbb{E}[X] = \\frac{1}{p},  \\: \\: \\mathbb{E}[(X - \\mathbb{E}[X] )^2] = \\frac{1-p}{p^2}$$"
      ],
      "id": "608f6f0b-9b62-4870-b26a-22af070be91d"
    },
    {
      "cell_type": "code",
      "execution_count": 132,
      "metadata": {},
      "outputs": [
        {
          "output_type": "stream",
          "name": "stdout",
          "text": [
            "mean 2.5, var 3.749999999999999, skew 2.0655911179772892, kurt 6.2666666666666675"
          ]
        }
      ],
      "source": [
        "p = 0.4\n",
        "\n",
        "rv = ss.geom(p)\n",
        "\n",
        "mean, var, skew, kurt = rv.stats(moments=\"mvsk\")\n",
        "print(\"mean {}, var {}, skew {}, kurt {}\".format(mean, var, skew, kurt))"
      ],
      "id": "c25e0bf2"
    },
    {
      "cell_type": "code",
      "execution_count": 139,
      "metadata": {},
      "outputs": [
        {
          "output_type": "display_data",
          "metadata": {},
          "data": {
            "image/png": "[encoded data removed]"
          }
        }
      ],
      "source": [
        "fig, ax = plt.subplots()\n",
        "\n",
        "y = np.random.geometric(p, size=1000)\n",
        "sns.countplot(x=y, label =f'mean = {y.mean(): 0.3f}', ax=ax)\n",
        "ax.legend(\"upper right\")\n",
        "ax.set(title=\"Geometric Distribution\", xlabel=\"y\");"
      ],
      "id": "fdc1b166"
    },
    {
      "cell_type": "markdown",
      "metadata": {},
      "source": [
        "As the above histogram hints at, the geometric distribution is the\n",
        "discretization of the exponential distribution, and shares the\n",
        "memoryless property:\n",
        "\n",
        "$$ P(X > n + k | X > k) = P(X > n) $$\n",
        "\n",
        "### Negative Binomial distribution\n",
        "\n",
        "Suppose independent trials, each with a probability of success $p$, are\n",
        "performed until success occurs (with the last trial being a success).\n",
        "Then the number of trials until $r$ successes occur is a random variable\n",
        "$X \\sim \\operatorname{NegBin}(r,p)$ and called a negative binomial\n",
        "random variable, which can be expressed as a sum of $r$ independent\n",
        "geometric distributions $X_i \\sim \\operatorname{Geo}(p)$ for\n",
        "$i = 1, \\dotsc, n$.\n",
        "\n",
        "$$ X = X_1 + X_2 + \\dotsc + X_n $$\n",
        "\n",
        "The probability mass function is:\n",
        "\n",
        "$$ P(X = k) = { k + r - 1 \\choose k} p^r (1-p)^{k} $$\n",
        "\n",
        "where $k$ is the number of failures seen before seeing a total of $r$\n",
        "successes.\n",
        "\n",
        "$$\\mathbb{E}[X] = \\frac{r (1-p)}{p},  \\: \\: \\mathbb{E}[(X - \\mathbb{E}[X] )^2] = r\\frac{(1-p)}{p^2}$$"
      ],
      "id": "b2aaf919-1a89-4cfe-ac89-a6a44eef518f"
    },
    {
      "cell_type": "code",
      "execution_count": 167,
      "metadata": {},
      "outputs": [
        {
          "output_type": "stream",
          "name": "stdout",
          "text": [
            "mean 5.999999999999999, var 14.999999999999996, skew 1.0327955589886446, kurt 1.5666666666666669"
          ]
        }
      ],
      "source": [
        "p = 0.4\n",
        "r = 4\n",
        "\n",
        "\n",
        "rv = ss.nbinom(r, p)\n",
        "\n",
        "mean, var, skew, kurt = rv.stats(moments=\"mvsk\")\n",
        "print(\"mean {}, var {}, skew {}, kurt {}\".format(mean, var, skew, kurt))"
      ],
      "id": "6e634023"
    },
    {
      "cell_type": "code",
      "execution_count": 170,
      "metadata": {
        "scrolled": true
      },
      "outputs": [
        {
          "output_type": "display_data",
          "metadata": {},
          "data": {
            "image/png": "[encoded data removed]"
          }
        }
      ],
      "source": [
        "fig, ax = plt.subplots()\n",
        "\n",
        "y = np.random.negative_binomial(r, p, size=1000)\n",
        "sns.countplot(x=y, label=f'mean = {y.mean(): 0.3f}', ax=ax)\n",
        "ax.legend(\"upper right\")\n",
        "ax.set(title=\"Negative Binomial distribution\", xlabel=\"y\");"
      ],
      "id": "5db91051"
    },
    {
      "cell_type": "markdown",
      "metadata": {},
      "source": [
        "### Poisson distribution and processes\n",
        "\n",
        "The number of events occuring in a fixed time interval $t$, with each\n",
        "event occuring independently of each other and at a average constant\n",
        "rate $\\lambda$ is described by the Poisson distribution with parameter\n",
        "$\\mu = \\lambda t$, $X \\sim Poi(\\mu)$, and has the probability mass\n",
        "function:\n",
        "\n",
        "$$ P(X = k) = \\frac{\\mu^k}{k!} e^{-\\mu}  \\: \\: k = 0,1,\\dotsc$$\n",
        "\n",
        "The standard moments are,\n",
        "\n",
        "$$\\mathbb{E}[X] = \\mu = \\lambda t,  \\: \\: \\mathbb{E}[(X - \\mathbb{E}[X] )^2] = \\mu$$\n",
        "\n",
        "Note that the time till the first event in a Poisson process is\n",
        "described by the exponential distribution with parameter $\\lambda$, and\n",
        "the time till the first $r$ events in a Poisson process is described by\n",
        "the Erlang (Gamma) distribution with shape $r$ and rate $\\lambda$. See\n",
        "below for definitions.\n",
        "\n",
        "Also see section 20.2 from the stats cookbook for a good summary of the\n",
        "Poisson process and the different distributions involved."
      ],
      "id": "feec179b-baa8-4051-9752-ed525f2f1b54"
    },
    {
      "cell_type": "code",
      "execution_count": 185,
      "metadata": {},
      "outputs": [
        {
          "output_type": "stream",
          "name": "stdout",
          "text": [
            "mean 6.0, var 6.0, skew 0.408248290463863, kurt 0.16666666666666666"
          ]
        }
      ],
      "source": [
        "mu = 6\n",
        "\n",
        "rv = ss.poisson(mu)\n",
        "\n",
        "mean, var, skew, kurt = rv.stats(moments=\"mvsk\")\n",
        "print(\"mean {}, var {}, skew {}, kurt {}\".format(mean, var, skew, kurt))"
      ],
      "id": "ec00b252"
    },
    {
      "cell_type": "code",
      "execution_count": 189,
      "metadata": {},
      "outputs": [
        {
          "output_type": "display_data",
          "metadata": {},
          "data": {
            "image/png": "[encoded data removed]"
          }
        }
      ],
      "source": [
        "fig, ax = plt.subplots()\n",
        "\n",
        "y = np.random.poisson(mu, size=1000)\n",
        "sns.countplot(x=y, label=f'mean = {y.mean(): 0.3f}', ax=ax)\n",
        "ax.legend(\"upper right\")\n",
        "ax.set(title=\"Poisson distribution\", xlabel=\"y\");"
      ],
      "id": "31e110a2"
    },
    {
      "cell_type": "markdown",
      "metadata": {},
      "source": [
        "### Gamma function and distribution\n",
        "\n",
        "Recall the Gamma function, $\\Gamma(\\alpha)$, is a function of a real\n",
        "variable, such that $\\Gamma(\\alpha) = \\alpha!$ for\n",
        "$\\alpha = 0, 1, 2 \\dotsc$.\n",
        "\n",
        "The Gamma distribution then has the probability distribution:\n",
        "\n",
        "$$f(x; \\alpha, \\beta) = \\frac{x^{\\alpha-1} e^{-\\beta x} \\beta^\\alpha}{\\Gamma(\\alpha)} \\text{ for } x > 0$$\n",
        "\n",
        "with $\\alpha >0$ called the shape and \\$\\>0 \\$ called the rate.\n",
        "$\\theta = 1/\\beta$ is also called the scale parameter.\n",
        "\n",
        "If $X \\sim \\operatorname{Ga}(\\alpha, \\beta)$ (see (Murphy 2012)), then\n",
        "the standard moments are\n",
        "\n",
        "$$\\mathbb{E}[X] = \\frac{\\alpha}{\\beta},  \\: \\: \\mathbb{E}[(X - \\mathbb{E}[X] )^2] = \\frac{\\alpha}{\\beta^2}$$\n",
        "$$\\operatorname{mode}{X} = \\frac{(\\alpha-1)}{\\beta} $$\n",
        "\n",
        "We parameterize the Gamma distribution in scipy as follows."
      ],
      "id": "9303e863-a35f-4a9b-8a25-5c8d45da1901"
    },
    {
      "cell_type": "code",
      "execution_count": 80,
      "metadata": {},
      "outputs": [],
      "source": [
        "alpha, beta  = 3, 1\n",
        "rv = ss.gamma(a=alpha,scale=1/beta)"
      ],
      "id": "8fd0d737"
    },
    {
      "cell_type": "code",
      "execution_count": 81,
      "metadata": {
        "scrolled": true
      },
      "outputs": [
        {
          "output_type": "display_data",
          "metadata": {},
          "data": {
            "text/plain": [
              "(0.33786338872773347, 9.273792089255544)"
            ]
          }
        }
      ],
      "source": [
        "rv.interval(0.99)"
      ],
      "id": "71d86356"
    },
    {
      "cell_type": "code",
      "execution_count": 85,
      "metadata": {},
      "outputs": [
        {
          "output_type": "display_data",
          "metadata": {},
          "data": {
            "image/png": "[encoded data removed]"
          }
        }
      ],
      "source": [
        "fig, ax = plt.subplots(1, 1)\n",
        "\n",
        "x = np.linspace(0, rv.ppf(0.999), 100)\n",
        "\n",
        "ax.plot(x, rv.pdf(x), 'r-', lw=2, alpha=0.6, label='gamma pdf')\n",
        "ax.set(title=\"Gamma PDF\", xlabel=\"y\");"
      ],
      "id": "b731ce05"
    },
    {
      "cell_type": "markdown",
      "metadata": {},
      "source": [
        "### Exponential distribution\n",
        "\n",
        "The Exponential, Erlang, and Chi-Squared distributions are all related\n",
        "to the Gamma distribution (Murphy 2012), but we’ll describe the\n",
        "simplest, the exponential distribution.\n",
        "\n",
        "$$ \\operatorname{Exp}(x | \\lambda) =  \\operatorname{Ga}(x | 1, \\lambda)$$\n",
        "\n",
        "where $\\lambda$ is the rate parameter. The exponential distribution\n",
        "describes the waiting time between events in a Poisson process.\n",
        "\n",
        "From the above formulas, if $X \\sim \\operatorname{Exp}(x | \\lambda)$,\n",
        "then\n",
        "\n",
        "$$\\mathbb{E}[X] = \\frac{1}{\\lambda},  \\: \\: \\mathbb{E}[(X - \\mathbb{E}[X] )^2] = \\frac{1}{\\lambda^2}$$\n",
        "$$\\operatorname{mode}{X} = 0 $$\n",
        "\n",
        "The exponential distribution, which is the continuous analog of the\n",
        "geometric distribution, also has the memoryless property:\n",
        "\n",
        "$$ P(X > t + h | X > h) = P(X > t )$$\n",
        "\n",
        "for any \\$t, h \\> 0 \\$.\n",
        "\n",
        "### Characteristic functions of random variables\n",
        "\n",
        "The charactierstic function will be useful for working with these\n",
        "distributions.\n",
        "\n",
        "The characteristic function (also called the Fourier transform) of a\n",
        "random variable $X$ is\n",
        "\n",
        "$$\\phi(t) = \\mathbb{E}[e^{i t X}] \\: \\: \\text{ for } t \\in \\mathbb{R}$$\n",
        "\n",
        "This function satisfies $|\\phi(t)| <= 1$ for all $t$ and is uniformly\n",
        "continuous. It has some advantages over the moment generating function,\n",
        "including the fact that it’s defined everywhere, and that it uniquely\n",
        "determines the random variable (Grimmett and Stirzaker 2001).\n",
        "\n",
        "Some other facts that we can derive from characteristic functions:\n",
        "\n",
        "1.  If $\\phi^k(0)$ and $\\mathbb{E}[|X^k|] < \\infty$, then\n",
        "\n",
        "$$ \\phi^k(0) = i^k \\mathbb{E}[X^k] $$\n",
        "\n",
        "1.  If $X_1, X_2, \\dotsc, X_n$ are independent then\n",
        "\n",
        "$$ \\phi_{X_1 + \\dotsc + X_n}(t) = \\phi_{X_1}(t) \\dots \\phi_{X_n}(t)  $$\n",
        "\n",
        "1.  If $a, b \\in \\mathbb{R}$ and \\$Y = a X + b \\$ then\n",
        "\n",
        "$$ \\phi_{Y}(t) = e^{i t b } \\phi_{a X}(t) $$\n",
        "\n",
        "1.  For random variables $X$ and $Y$, define the join characteristic\n",
        "    function of $X$, and $Y$ by\n",
        "    $\\phi_{X, Y}(s,t) = \\mathbb{E}[e^{i s X} e^{i t Y}]$. Then $X$ and\n",
        "    $Y$ are independent iff\n",
        "\n",
        "$$ \\phi_{X, Y}(s,t) = \\phi_X(s) \\phi_Y(t) \\text{ for all } s, t \\in \\mathbb{R} $$\n",
        "\n",
        "See chapter 5 of (Grimmett and Stirzaker 2001) for the statement and\n",
        "proof of the above facts.\n",
        "\n",
        "### Examples of characteristic functions\n",
        "\n",
        "If $X \\sim \\operatorname{Ber}(p)$ then\n",
        "\n",
        "$$ \\phi(t) = 1 - p + p e^{i t} $$\n",
        "\n",
        "If $X \\sim \\operatorname{Bin}(n,p)$ then\n",
        "\n",
        "$$ \\phi(t) = (1 - p + p e^{i t} )^n $$\n",
        "\n",
        "If $X \\sim \\operatorname{NegBin}(r,p)$ then\n",
        "\n",
        "$$ \\phi(t) = \\left (\\frac{p}{1 - e^{it} + p e^{i t}} \\right )^r $$\n",
        "\n",
        "If $X \\sim \\operatorname{Gam}(\\alpha, \\beta)$ then\n",
        "\n",
        "$$ \\phi(t) = \\left (\\frac{\\beta}{\\beta - i t} \\right )^\\alpha $$\n",
        "\n",
        "If $X \\sim \\operatorname{Exp}(\\lambda)$ then\n",
        "\n",
        "$$ \\phi(t) = \\frac{\\lambda}{\\lambda - i t}  $$\n",
        "\n",
        "If $X \\sim \\operatorname{Poi}(\\mu)$ then\n",
        "\n",
        "$$ \\phi(t)  = e^{\\mu ( e^{i t} - 1)}$$\n",
        "\n",
        "If $X \\sim \\operatorname{N}(\\mu, \\sigma)$ then\n",
        "\n",
        "$$ \\phi(t) = \\exp( i \\mu t - \\frac{\\sigma t^2}{2}) $$\n",
        "\n",
        "If $X \\sim U(a, b)$ (continuous Uniform random variable) then\n",
        "\n",
        "$$ \\phi(t) = \\frac{e^{i t b} - e^{i t a}}{ i t (b - a)} $$\n",
        "\n",
        "See section 5.8 in (Grimmett and Stirzaker 2001) for more details. Those\n",
        "functions, plus the above facts about characteristic functions, and the\n",
        "following\n",
        "\n",
        "$$ \\operatorname{var}[X] = \\mathbb{E}[X^2] - (\\mathbb{E}[X])^2 $$\n",
        "\n",
        "can be used to calculate $\\mathbb{E}[X]$ and $\\operatorname{var}[X]$.\n",
        "\n",
        "The above formulas also clearly show which distributions are closed\n",
        "under taking sums of independent copies.\n",
        "\n",
        "### Normal distribution, weak law of large numbers, and the central limit theorem\n",
        "\n",
        "We’ll now study the normal distribution as the error distribution in the\n",
        "central limit theorem.\n",
        "\n",
        "First recall that the normal distribution has the probability\n",
        "distribution:\n",
        "\n",
        "$$ f(x) = \\frac{1}{\\sigma \\sqrt{2 \\pi} } e^{- \\frac{1}{2} \\left (\\frac{x-\\mu}{\\sigma} \\right)^2}$$\n",
        "\n",
        "where $\\mu \\in \\mathbb{R}$ and $\\sigma > 0$, and the standard moments\n",
        "are\n",
        "\n",
        "$$\\mathbb{E}[X] = \\mu,  \\: \\: \\mathbb{E}[(X - \\mathbb{E}[X] )^2] = \\sigma$$\n",
        "$$\\operatorname{mode}{X} = \\mu $$\n",
        "\n",
        "Now consider a sequence $X_1$, $X_2$, … of independent and identically\n",
        "distributed random variables each with mean $\\mu$ and standard deviation\n",
        "$\\sigma$ (good examples being the Bernoulli and Exponential\n",
        "distributions). Let $S_n = X_1 + X_2 + \\dots + X_n$ be their partial\n",
        "sums, then the *weak law of large numbers*[1] says that $\\frac{S_n}{n}$\n",
        "converges to $\\mu$ in distribution as $n$ approaches $\\infty$ (see\n",
        "section 5.10 in (Grimmett and Stirzaker 2001)). We’ll illustrate this\n",
        "theorem by way of example below.\n",
        "\n",
        "[1] The strong law of large numbers refers to almost everywhere\n",
        "convergence of the random variables."
      ],
      "id": "87ff926c-4d31-43a9-bc7f-44a7d1332f5d"
    },
    {
      "cell_type": "code",
      "execution_count": 83,
      "metadata": {},
      "outputs": [],
      "source": [
        "lam = 0.5\n",
        "mu = 2\n",
        "\n",
        "def draw(n):\n",
        "    return np.random.exponential(mu, size=n)"
      ],
      "id": "9cdd9b9d"
    },
    {
      "cell_type": "markdown",
      "metadata": {},
      "source": [
        "Below we’ll plot the distribution of $\\frac{S_n}{n}$ for $n = 1, 100$\n",
        "and $1000$ to see the weak law in action."
      ],
      "id": "6b59036f-b9c9-4a74-8a7e-fe64a0a4a776"
    },
    {
      "cell_type": "code",
      "execution_count": 84,
      "metadata": {},
      "outputs": [
        {
          "output_type": "display_data",
          "metadata": {},
          "data": {
            "image/png": "[encoded data removed]"
          }
        }
      ],
      "source": [
        "fig = plt.figure(figsize=(10,10))\n",
        "\n",
        "n = 1\n",
        "y = np.array([ sum(draw(n))/n for i in range(1000) ] )\n",
        "ax = fig.add_subplot(221)\n",
        "ax.hist(y, label=f'mean = {y.mean(): 0.3f}')\n",
        "ax.title.set_text(\"Distribution of a random variable\")\n",
        "\n",
        "n = 100\n",
        "y = np.array([ sum(draw(n))/n for i in range(1000) ] )\n",
        "ax = fig.add_subplot(222)\n",
        "ax.hist(y, label=f'mean = {y.mean(): 0.3f}')\n",
        "ax.title.set_text(f\"Average of {n} IID random variables\")\n",
        "\n",
        "n = 1000\n",
        "y = np.array([ sum(draw(n))/n for i in range(1000) ] )\n",
        "ax = fig.add_subplot(223)\n",
        "ax.hist(y, label=f'mean = {y.mean(): 0.3f}')\n",
        "ax.title.set_text(f\"Average of {n} IID random variables\")\n",
        "fig.suptitle('Illustration of the Weak Law of Large Numbers')\n",
        "plt.show()"
      ],
      "id": "daf53222"
    },
    {
      "cell_type": "markdown",
      "metadata": {},
      "source": [
        "It clearly looks like the errors in $\\frac{S_n}{n} - \\mu$ are\n",
        "approaching a normal distribution, in fact\n",
        "$(S_n - n \\mu)/ \\sqrt{n \\sigma^2}$ approaches $N(0,1)$ in distribution\n",
        "as $n$ approaches $\\infty$ (provided the $X_i$s has finite non-zero\n",
        "variance, (Grimmett and Stirzaker 2001)). This fact is the famous\n",
        "*central limit theorem*, which we’ll illustrate below."
      ],
      "id": "f59ed365-6de4-4840-a18e-6b8935f07b1b"
    },
    {
      "cell_type": "code",
      "execution_count": 79,
      "metadata": {},
      "outputs": [
        {
          "output_type": "display_data",
          "metadata": {},
          "data": {
            "image/png": "[encoded data removed]"
          }
        }
      ],
      "source": [
        "fig = plt.figure(figsize=(10,10))\n",
        "\n",
        "n = 1\n",
        "y = np.array([ sum(draw(n))/n for i in range(1000) ] )\n",
        "ax = fig.add_subplot(221)\n",
        "ax.hist(y, label=f'mean = {y.mean(): 0.3f}')\n",
        "ax.title.set_text(\"Distribution of a random variable\")\n",
        "\n",
        "n = 100\n",
        "y = np.array([ (sum(draw(n)) - mu * n)/np.sqrt(n) for i in range(1000) ] )\n",
        "ax = fig.add_subplot(222)\n",
        "ax.hist(y, label=f'mean = {y.mean(): 0.3f}')\n",
        "ax.title.set_text(f\"Errors of {n} IID random variables\")\n",
        "\n",
        "n = 1000\n",
        "y = np.array([ (sum(draw(n)) - mu * n)/np.sqrt(n) for i in range(1000) ] )\n",
        "ax = fig.add_subplot(223)\n",
        "ax.hist(y, label=f'mean = {y.mean(): 0.3f}')\n",
        "ax.title.set_text(f\"Errors of {n} IID random variables\")\n",
        "fig.suptitle('Illustration of the Central Limit Theorem')\n",
        "plt.show()"
      ],
      "id": "7b952766"
    },
    {
      "cell_type": "markdown",
      "metadata": {},
      "source": [
        "Note that it’s straightforward to check that\n",
        "\n",
        "$$ \\mathbb{E}[(S_n - n \\mu)/ \\sqrt{n \\sigma^2}] = 0, \\: \\: \\operatorname{var}[(S_n - n \\mu)/ \\sqrt{n \\sigma^2}] = 1$$\n",
        "\n",
        "for all \\$ n \\> 0 \\$. So the first two moments of\n",
        "$(S_n - n \\mu)/ \\sqrt{n \\sigma^2}$ agree with the first two moments of\n",
        "$N(0, 1)$. The central limit theorem then says that in the limit of\n",
        "large $n$, all moments of $(S_n - n \\mu)/ \\sqrt{n \\sigma^2}$ agree with\n",
        "all moments of $N(0, 1)$.\n",
        "\n",
        "Observe that these theorems naturally apply to the Bernoulli and\n",
        "Exponential distributions in the limit of large $n$, showing that after\n",
        "setting the mean to zero and scaling by the standard deviation, they\n",
        "both converge to the standard normal distribution.\n",
        "\n",
        "Finally, note that the weak law of large numbers, and the central limit\n",
        "theorem can be proven fairly elegantly using charactierstic functions\n",
        "(see (Grimmett and Stirzaker 2001), for example). Also see chapter 15 in\n",
        "[Introduction to probability at an advanced\n",
        "level](https://www.stat.berkeley.edu/~aditya/resources/AllLectures2018Fall201A.pdf)\n",
        "for more applications of the central limit theorem.\n",
        "\n",
        "More summaries of standard statistics can be found in [stats\n",
        "cookbook](http://statistics.zone/).\n",
        "\n",
        "Grimmett, Geoffrey R., and David R. Stirzaker. 2001. “Probability and\n",
        "Random Processes.” In.\n",
        "\n",
        "Murphy, Kevin P. 2012. “Machine Learning - a Probabilistic Perspective.”\n",
        "In."
      ],
      "id": "562599db-849b-4347-aa3a-71693eab05d7"
    }
  ],
  "nbformat": 4,
  "nbformat_minor": 5,
  "metadata": {
    "kernelspec": {
      "name": "python3",
      "display_name": "snakemake",
      "language": "python"
    },
    "language_info": {
      "name": "python",
      "codemirror_mode": {
        "name": "ipython",
        "version": "3"
      },
      "file_extension": ".py",
      "mimetype": "text/x-python",
      "nbconvert_exporter": "python",
      "pygments_lexer": "ipython3",
      "version": "3.12.8"
    }
  }
}